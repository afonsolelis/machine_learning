{
 "cells": [
  {
   "cell_type": "markdown",
   "id": "283bb6a8-b49c-4209-aa6f-f3f521cb89f7",
   "metadata": {},
   "source": [
    "# Preparando Datasets"
   ]
  },
  {
   "cell_type": "markdown",
   "id": "98334693-d8ff-41d7-966d-4e71ce82eadd",
   "metadata": {},
   "source": [
    "## A Importância do Pré-processamento de Dados"
   ]
  },
  {
   "cell_type": "markdown",
   "id": "811918e5-4af5-44a1-bec2-bf892270bce2",
   "metadata": {},
   "source": [
    "No mundo da ciência de dados e aprendizado de máquina, o pré-processamento de dados desempenha um papel fundamental na obtenção de insights valiosos e na construção de modelos de alta precisão. Mas por que é tão crucial dedicar tempo e esforço ao pré-processamento? Vamos explorar algumas razões essenciais.\r\n",
    "\r\n",
    "**Dados Iniciais são Sujos e Ruidosos** Em sua forma crua, os dados muitas vezes são desorganizados, sujos e cheios de ruído. Eles podem conter erros de digitação, valores ausentes, informações irrelevantes ou inconsistentes. Se alimentarmos esses dados diretamente em nossos algoritmos de aprendizado de máquina, é provável que obtenhamos resultados imprecisos e instáveis. Portanto, a primeira etapa do pré-processamento envolve a limpeza e a organização dos dados, tornando-os adequados para análise.\r\n",
    "\r\n",
    "**Algoritmos de Aprendizado de Máquina Têm Restrições** Os algoritmos de aprendizado de máquina têm suas próprias restrições e suposições sobre os dados de entrada. Por exemplo, muitos algoritmos de classificação assumem que os dados estão distribuídos de maneira normal e que as características são independentes. Se os dados não atenderem a essas suposições, os resultados podem ser prejudicados. Portanto, o pré-processamento de dados inclui a transformação dos dados para atender às expectativas do algoritmo escolhido.\r\n",
    "\r\n",
    "**Transformações Podem Melhorar o Desempenho do Modelo** Uma das partes mais empolgantes do pré-processamento de dados é a capacidade de melhorar significativamente o desempenho do modelo. Isso é alcançado através de técnicas como normalização, padronização, seleção de características e engenharia de características. A normalização, por exemplo, coloca os dados em uma escala comum, enquanto a seleção de características ajuda a eliminar informações irrelevantes ou redundantes. Essas transformações refinam os dados e ajudam os modelos de aprendizado de máquina a aprender padrões mais relevantes e a fazer previsões mais precisas.\r\n",
    "\r\n",
    "Em resumo, o pré-processamento de dados é um passo crucial no processo de construção de modelos de aprendizado de máquina bem-sucedidos. Ele não apenas limpa e organiza os dados, mas também os adapta às necessidades dos algoritmos e melhora o desempenho geral do modelo. Portanto, ao iniciar qualquer projeto de ciência de dados ou aprendizado de máquina, lembre-se de que a qualidade dos resultados finais frequentemente depende da qualidade do pré-processamento de dados."
   ]
  },
  {
   "cell_type": "markdown",
   "id": "e5ddeb1a-794c-43c7-94f3-8156e0cb626b",
   "metadata": {},
   "source": [
    "Vamos gerar um dataset randômico de preços de casas:"
   ]
  },
  {
   "cell_type": "code",
   "execution_count": 2,
   "id": "19ee33f2-20f9-47bc-befe-20397bc58ecc",
   "metadata": {},
   "outputs": [
    {
     "name": "stdout",
     "output_type": "stream",
     "text": [
      "   GrLivArea  BedroomAbvGr  KitchenAbvGr  OverallCond         Pesos Alley  \\\n",
      "0       3387             6             2            1  3.283971e+06  Grvl   \n",
      "1        992             4             1            7  3.140872e+06  Grvl   \n",
      "2       3126             4             3            5  3.935844e+06  Grvl   \n",
      "3       2696             5             1            7  5.305683e+06  Pave   \n",
      "4       1451             2             3            7  5.518280e+06  Grvl   \n",
      "\n",
      "  Street   WallMat  SalePrice  \n",
      "0   Grvl     Brick     762784  \n",
      "1   Grvl  Concrete     228792  \n",
      "2   Pave  Concrete     696286  \n",
      "3   Grvl  Concrete     132709  \n",
      "4   Pave     Metal     154611  \n"
     ]
    }
   ],
   "source": [
    "import pandas as pd\n",
    "import random\n",
    "import numpy as np\n",
    "\n",
    "# Definindo o tamanho do conjunto de dados\n",
    "num_rows = 40000\n",
    "\n",
    "# Gerando dados aleatórios para cada coluna\n",
    "GrLivArea = [random.randint(500, 4000) for _ in range(num_rows)]\n",
    "BedroomAbvGr = [random.randint(1, 6) for _ in range(num_rows)]\n",
    "KitchenAbvGr = [random.randint(1, 3) for _ in range(num_rows)]\n",
    "OverallCond = [random.randint(1, 9) for _ in range(num_rows)]\n",
    "Pesos = [random.uniform(2000000, 6000000) for _ in range(num_rows)]\n",
    "Alley = [random.choice(['Pave', 'Grvl', np.nan]) for _ in range(num_rows)]\n",
    "Street = [random.choice(['Pave', 'Grvl']) for _ in range(num_rows)]\n",
    "WallMat = [random.choice(['Wood', 'Metal', 'Concrete', 'Brick']) for _ in range(num_rows)]\n",
    "SalePrice = [random.randint(50000, 800000) for _ in range(num_rows)]\n",
    "\n",
    "# Criando o DataFrame\n",
    "data = {\n",
    "    'GrLivArea': GrLivArea,\n",
    "    'BedroomAbvGr': BedroomAbvGr,\n",
    "    'KitchenAbvGr': KitchenAbvGr,\n",
    "    'OverallCond': OverallCond,\n",
    "    'Pesos': Pesos,\n",
    "    'Alley': Alley,\n",
    "    'Street': Street,\n",
    "    'WallMat': WallMat,\n",
    "    'SalePrice': SalePrice\n",
    "}\n",
    "\n",
    "df = pd.DataFrame(data)\n",
    "\n",
    "# Exibindo as primeiras linhas do DataFrame\n",
    "print(df.head())"
   ]
  },
  {
   "cell_type": "markdown",
   "id": "ca9bb81b-95b8-468d-8864-8bd036f8347d",
   "metadata": {},
   "source": [
    "Agora para que este dataset tenha algum tipo de problema, vamos preencher a coluna \"Alley\" com NaN e colocar dados duplicados:"
   ]
  },
  {
   "cell_type": "code",
   "execution_count": 6,
   "id": "b020323c-6bfe-41ff-96f0-d800e1531782",
   "metadata": {},
   "outputs": [
    {
     "name": "stdout",
     "output_type": "stream",
     "text": [
      "   GrLivArea  BedroomAbvGr  KitchenAbvGr  OverallCond         Pesos  Alley  \\\n",
      "0       2406             3             2            1  3.707526e+06    NaN   \n",
      "1       2617             2             1            1  5.168954e+06    NaN   \n",
      "2        679             1             1            9  3.906298e+06    NaN   \n",
      "3       2052             5             1            6  5.648565e+06    NaN   \n",
      "4       2704             1             2            6  2.239401e+06    NaN   \n",
      "\n",
      "  Street   WallMat  SalePrice  \n",
      "0   Pave  Concrete     135074  \n",
      "1   Pave  Concrete     422119  \n",
      "2   Grvl     Metal     190635  \n",
      "3   Grvl  Concrete     756485  \n",
      "4   Pave      Wood     287482  \n"
     ]
    }
   ],
   "source": [
    "import pandas as pd\n",
    "import random\n",
    "import numpy as np\n",
    "\n",
    "# Definindo o tamanho do conjunto de dados\n",
    "num_rows = 40000\n",
    "\n",
    "# Gerando dados aleatórios para cada coluna\n",
    "GrLivArea = [random.randint(500, 4000) for _ in range(num_rows)]\n",
    "BedroomAbvGr = [random.randint(1, 6) for _ in range(num_rows)]\n",
    "KitchenAbvGr = [random.randint(1, 3) for _ in range(num_rows)]\n",
    "OverallCond = [random.randint(1, 9) for _ in range(num_rows)]\n",
    "Pesos = [random.uniform(2000000, 6000000) for _ in range(num_rows)]\n",
    "Alley = [np.nan for _ in range(num_rows)]  # Preenche a coluna \"Alley\" com NaN\n",
    "Street = [random.choice(['Pave', 'Grvl']) for _ in range(num_rows)]\n",
    "WallMat = [random.choice(['Wood', 'Metal', 'Concrete', 'Brick']) for _ in range(num_rows)]\n",
    "SalePrice = [random.randint(50000, 800000) for _ in range(num_rows)]\n",
    "\n",
    "# Introduza algumas duplicatas copiando aleatoriamente algumas linhas\n",
    "num_duplicatas = 1000  # Define o número de duplicatas desejadas\n",
    "indices_duplicados = random.sample(range(num_rows), num_duplicatas)\n",
    "dados_duplicados = [df.iloc[i] for i in indices_duplicados]\n",
    "\n",
    "# Adicione os dados duplicados ao DataFrame\n",
    "df = pd.concat([df, pd.DataFrame(dados_duplicados)], ignore_index=True)\n",
    "\n",
    "# Exibindo as primeiras linhas do DataFrame com duplicatas\n",
    "print(df.head())"
   ]
  },
  {
   "cell_type": "markdown",
   "id": "14ae265c-aa21-48f7-93c6-48a21636f531",
   "metadata": {},
   "source": [
    "## Duplicatas"
   ]
  },
  {
   "cell_type": "markdown",
   "id": "9bfe7088-5218-4c22-9431-8543335026c6",
   "metadata": {},
   "source": [
    "Encontrar e lidar com duplicatas em um conjunto de dados é uma etapa importante na análise de dados. Você pode usar a biblioteca Pandas em Python para identificar e lidar com duplicatas. Aqui está um exemplo de código que mostra como encontrar e remover duplicatas em um DataFrame:"
   ]
  },
  {
   "cell_type": "code",
   "execution_count": 7,
   "id": "abaeeec7-d88b-4162-b8a8-bf20b90c15cc",
   "metadata": {},
   "outputs": [
    {
     "name": "stdout",
     "output_type": "stream",
     "text": [
      "Duplicatas encontradas:\n",
      "       GrLivArea  BedroomAbvGr  KitchenAbvGr  OverallCond         Pesos  \\\n",
      "40000       2142             2             2            6  4.732978e+06   \n",
      "40001       3854             4             1            1  2.709873e+06   \n",
      "40002       2702             5             3            7  2.456488e+06   \n",
      "40003       3739             1             3            4  3.667554e+06   \n",
      "40004       2990             3             3            9  4.772618e+06   \n",
      "...          ...           ...           ...          ...           ...   \n",
      "40995       3155             6             1            5  4.437139e+06   \n",
      "40996       2986             5             2            9  5.414728e+06   \n",
      "40997        822             5             3            8  3.425873e+06   \n",
      "40998       3180             1             3            3  3.879295e+06   \n",
      "40999       3958             2             3            9  4.741764e+06   \n",
      "\n",
      "       Alley Street   WallMat  SalePrice  \n",
      "40000    NaN   Pave     Metal     130174  \n",
      "40001    NaN   Pave  Concrete     410904  \n",
      "40002    NaN   Pave      Wood     271339  \n",
      "40003    NaN   Grvl  Concrete     116680  \n",
      "40004    NaN   Pave      Wood     454407  \n",
      "...      ...    ...       ...        ...  \n",
      "40995    NaN   Grvl     Metal     652268  \n",
      "40996    NaN   Pave  Concrete     307676  \n",
      "40997    NaN   Pave      Wood     389895  \n",
      "40998    NaN   Grvl  Concrete     413231  \n",
      "40999    NaN   Grvl  Concrete     701171  \n",
      "\n",
      "[1000 rows x 9 columns]\n",
      "\n",
      "DataFrame sem duplicatas:\n",
      "       GrLivArea  BedroomAbvGr  KitchenAbvGr  OverallCond         Pesos  \\\n",
      "0           2406             3             2            1  3.707526e+06   \n",
      "1           2617             2             1            1  5.168954e+06   \n",
      "2            679             1             1            9  3.906298e+06   \n",
      "3           2052             5             1            6  5.648565e+06   \n",
      "4           2704             1             2            6  2.239401e+06   \n",
      "...          ...           ...           ...          ...           ...   \n",
      "39995       1011             2             2            6  5.347023e+06   \n",
      "39996       2824             2             2            2  2.821734e+06   \n",
      "39997        583             3             3            2  3.636381e+06   \n",
      "39998       3318             3             3            5  2.807355e+06   \n",
      "39999        964             5             3            3  4.565325e+06   \n",
      "\n",
      "       Alley Street   WallMat  SalePrice  \n",
      "0        NaN   Pave  Concrete     135074  \n",
      "1        NaN   Pave  Concrete     422119  \n",
      "2        NaN   Grvl     Metal     190635  \n",
      "3        NaN   Grvl  Concrete     756485  \n",
      "4        NaN   Pave      Wood     287482  \n",
      "...      ...    ...       ...        ...  \n",
      "39995    NaN   Pave     Metal      68514  \n",
      "39996    NaN   Grvl     Metal     344146  \n",
      "39997    NaN   Pave  Concrete     515731  \n",
      "39998    NaN   Grvl      Wood     254036  \n",
      "39999    NaN   Grvl     Metal     659505  \n",
      "\n",
      "[40000 rows x 9 columns]\n"
     ]
    }
   ],
   "source": [
    "import pandas as pd\n",
    "\n",
    "# Supondo que você já tenha carregado seu conjunto de dados em um DataFrame chamado 'df'\n",
    "\n",
    "# Verifique duplicatas com base em todas as colunas\n",
    "duplicatas = df[df.duplicated()]\n",
    "\n",
    "# Exiba as duplicatas encontradas\n",
    "print(\"Duplicatas encontradas:\")\n",
    "print(duplicatas)\n",
    "\n",
    "# Remova as duplicatas (mantendo a primeira ocorrência)\n",
    "df_sem_duplicatas = df.drop_duplicates()\n",
    "\n",
    "# Caso queira manter a última ocorrência das duplicatas, use o parâmetro 'keep' da seguinte forma:\n",
    "# df_sem_duplicatas = df.drop_duplicates(keep='last')\n",
    "\n",
    "# Exiba o DataFrame sem duplicatas\n",
    "print(\"\\nDataFrame sem duplicatas:\")\n",
    "print(df_sem_duplicatas)\n",
    "\n",
    "# Se você quiser sobrescrever o DataFrame original com os valores sem duplicatas, use:\n",
    "# df = df_sem_duplicatas"
   ]
  },
  {
   "cell_type": "markdown",
   "id": "ff522491-3a8a-4dc4-92cb-24f67b6e3924",
   "metadata": {},
   "source": [
    "## Vazamento de Dados em Aprendizado de Máquina: Garantindo a Generalização do Modelo e Lidando com Duplicatas\r\n",
    "\r\n",
    "No campo do aprendizado de máquina, o vazamento de dados é um desafio crítico que pode ter implicações profundas no desempenho e na confiabilidade do modelo. Ele ocorre quando informações que deveriam permanecer invisíveis para o algoritmo durante o treinamento acabam entrando nos dados de treinamento, resultando em avaliações e previsões excessivamente otimistas, mas, no final das contas, não confiáveis. Vamos aprofundar esse problema, concentrando-nos na importância de manter a integridade do conjunto de teste e abordando o problema de linhas duplicadas em ambos os conjuntos de treinamento e teste.\r\n",
    "\r\n",
    "**O Papel dos Dados de Teste na Avaliação do Modelo:**\r\n",
    "\r\n",
    "Um princípio fundamental no aprendizado de máquina é a distinção clara entre dados de treinamento e dados de teste. O conjunto de teste serve como um teste crucial para a capacidade de um modelo generalizar seus padrões aprendidos para dados não vistos anteriormente. Isso é fundamental para avaliar o desempenho do modelo no mundo real. Para alcançar isso, o conjunto de teste idealmente deve ser completamente desconhecido pelo modelo durante o treinamento.\r\n",
    "\r\n",
    "**Vazamento de Dados: Uma Ameaça à Avaliação do Modelo:**\r\n",
    "\r\n",
    "O vazamento de dados compromete a integridade do conjunto de teste e pode levar a avaliações enganosas do modelo. Isso ocorre quando qualquer forma de informação, seja do futuro, de fontes externas ou de variáveis não intencionais, infiltra-se nos dados de treinamento. Quando o modelo é posteriormente avaliado no conjunto de teste, que pode conter parte da informação vazada, ele pode produzir pontuações de desempenho artificialmente altas, iludindo os praticantes em uma falsa sensação de segurança.\r\n",
    "\r\n",
    "**O Impacto de Linhas Duplicadas:**\r\n",
    "\r\n",
    "Linhas duplicadas representam outra dimensão de preocupação com a integridade dos dados. Quando linhas idênticas existem tanto nos conjuntos de treinamento quanto nos conjuntos de teste, isso pode distorcer o processo de avaliação. Os modelos podem memorizar inadvertidamente essas duplicatas durante o treinamento, comprometendo sua capacidade de generalização eficaz. Como resultado, quando testados com novos dados, eles podem falhar devido à dependência de padrões que se aplicam apenas às duplicatas.\r\n",
    "\r\n",
    "**Prevenindo o Vazamento de Dados e Lidando com Duplicatas:**\r\n",
    "\r\n",
    "Para mitigar o vazamento de dados e gerenciar linhas duplicadas, considere as seguintes práticas:\r\n",
    "\r\n",
    "* **Separação Estrita de Dados:** Mantenha uma separação clara entre os conjuntos de treinamento, validação e teste, garantindo que os dados de teste permaneçam intocados durante o desenvolvimento do modelo.\r\n",
    "    \r\n",
    "* **Consciência na Engenharia de Recursos:** Esteja atento às características usadas para treinamento, garantindo que elas estejam realmente disponíveis no momento das previsões do mundo real.\r\n",
    "    \r\n",
    "* **Validação Cruzada Adequada:** Utilize técnicas apropriadas de validação cruzada, como a validação cruzada de séries temporais para dados temporais, a fim de simular cenários do mundo real de forma eficaz.\r\n",
    "    \r\n",
    "* **Tratamento de Duplicatas:** Implemente estratégias para detectar e lidar com linhas duplicadas, seja removendo-as ou aplicando técnicas estatísticas apropriadas. fontes de vazamento de dados."
   ]
  },
  {
   "cell_type": "markdown",
   "id": "00e2d468-bc99-40c5-870f-f1ab0b8eb326",
   "metadata": {},
   "source": [
    "## Dados Ausentes: Entendendo as Causas e Impactos"
   ]
  },
  {
   "cell_type": "markdown",
   "id": "1858f35e-2b4f-4896-b6e9-11beff966a5a",
   "metadata": {},
   "source": [
    "**Causas Comuns de Dados Ausentes:**\r\n",
    "\r\n",
    "Dados ausentes são uma preocupação comum na análise de dados e no aprendizado de máquina. Eles podem ocorrer por várias razões, incluindo:\r\n",
    "\r\n",
    "* **Erro de Programação:** Erros de programação podem levar à falta de dados durante a coleta ou manipulação dos mesmos.\r\n",
    "    \r\n",
    "* **Falha de Medição:** Em estudos clínicos, por exemplo, um paciente pode perder uma visita programada, resultando em dados ausentes.\r\n",
    "    \r\n",
    "* **Eventos Aleatórios:** Dispositivos de coleta de dados, como sensores meteorológicos, podem ficar sem energia temporariamente, resultando em lacunas nos dados.\r\n",
    "    \r\n",
    "* **Entradas Incorretas:** Erros humanos podem levar à inclusão de informações incorretas ou à falta delas.\r\n",
    "    \r\n",
    "\r\n",
    "**Representações Comuns de Dados Ausentes:**\r\n",
    "\r\n",
    "Dados ausentes podem ser representados de várias maneiras, incluindo:\r\n",
    "\r\n",
    "* **NaN (não é um número):** Um valor especial que indica a ausência de dados.\r\n",
    "    \r\n",
    "* **999 (ou qualquer número negativo suspeitosamente grande):** Um valor fictício usado para representar dados ausentes.\r\n",
    "    \r\n",
    "* **?** ou outros caracteres especiais.\r\n",
    "    \r\n",
    "* **±** (sinal de mais ou menos) ou ∞ (valores infinitos).\r\n",
    "    \r\n",
    "* **\"\" (String vazia):** Uma string vazia pode indicar dados ausentes em dados de texto.\r\n",
    "    \r\n",
    "\r\n",
    "**Detectando Dados Ausentes:**\r\n",
    "\r\n",
    "É importante identificar e quantificar dados ausentes em um conjunto de dados. Alguns métodos comuns incluem:\r\n",
    "\r\n",
    "* Contar o número de NaN para cada coluna: `data.isnull().sum().sort_values(ascending=False)`\r\n",
    "    \r\n",
    "* Calcular a porcentagem de NaN para cada coluna: `data.isnull().sum().sort_values(ascending=False)/len(data)`\r\n",
    "    \r\n",
    "\r\n",
    "**Impactos dos Dados Ausentes:**\r\n",
    "\r\n",
    "Dados ausentes podem impactar negativamente a análise de dados e o treinamento de modelos de aprendizado de máquina. Dependendo da quantidade de dados ausentes e da natureza do problema, você pode considerar diferentes estratégias para lidar com eles.\r\n",
    "\r\n",
    "**Manuseando Dados Ausentes:**\r\n",
    "\r\n",
    "A forma como você lida com dados ausentes depende do campo de aplicação e do conjunto de dados específico. Alguns pontos a serem considerados incluem:\r\n",
    "\r\n",
    "* **Causas dos Dados Ausentes:** Tente entender por que os dados estão ausentes. Isso pode fornecer insights sobre a melhor estratégia a ser adotada.\r\n",
    "    \r\n",
    "* **Substituição de Valores:** Em alguns casos, você pode substituir valores ausentes por outros que façam sentido. Isso pode incluir a substituição por um valor médio, uma categoria especial, ou até mesmo a exclusão de instâncias com dados ausentes.\r\n",
    "    \r\n",
    "* **Perda de Dados:** Às vezes, a melhor opção é simplesmente descartar dados ausentes, especialmente se representarem uma porcentagem pequena do conjunto de dados.\r\n",
    "    \r\n",
    "* **Conhecimento de Domínio:** Em muitos casos, o conhecimento do domínio desempenha um papel fundamental na tomada de decisões sobre como lidar com dados ausentes. Entender o significado das variáveis e os impactos potenciais é crucial.\r\n",
    "    \r\n",
    "\r\n",
    "Lembre-se de que lidar com dados ausentes é uma etapa crítica na preparação de dados para análise e modelagem. As decisões tomadas para abordar dados ausentes podem influenciar significativamente os resultados finais e a interpretação dos modelos. Portanto, é essencial abordar esse problema com cuidado e consideração."
   ]
  },
  {
   "cell_type": "code",
   "execution_count": 8,
   "id": "699d5f51-a58f-44b0-abbf-549e5c9b5c61",
   "metadata": {},
   "outputs": [
    {
     "name": "stdout",
     "output_type": "stream",
     "text": [
      "Porcentagem de Dados Ausentes:\n",
      "Feature1    20.0\n",
      "Feature2    40.0\n",
      "Feature3     0.0\n",
      "dtype: float64\n",
      "\n",
      "Sugestões de Tratamento:\n",
      "Feature1: Preencher com média, mediana, moda ou valor específico (Menos de 30% de dados ausentes)\n",
      "Feature2: Avaliar a remoção (Entre 30% e 90% de dados ausentes)\n"
     ]
    }
   ],
   "source": [
    "import pandas as pd\n",
    "\n",
    "# Crie um DataFrame de exemplo com dados faltantes\n",
    "data = {\n",
    "    'Feature1': [1, 2, None, 4, 5],\n",
    "    'Feature2': [None, 2, 3, 4, None],\n",
    "    'Feature3': [1, 2, 3, 4, 5]\n",
    "}\n",
    "\n",
    "df = pd.DataFrame(data)\n",
    "\n",
    "# Função para detectar dados faltantes e sugerir tratamentos\n",
    "def detect_missing_data(df, threshold=0.3):\n",
    "    # Calcula a porcentagem de dados ausentes para cada coluna\n",
    "    missing_percentage = df.isnull().mean() * 100\n",
    "\n",
    "    # Filtra as colunas que têm mais dados ausentes do que o limite especificado\n",
    "    columns_to_drop = missing_percentage[missing_percentage > threshold].index.tolist()\n",
    "\n",
    "    # Sugere tratamento com base na porcentagem de dados ausentes\n",
    "    suggestions = {}\n",
    "    for column in columns_to_drop:\n",
    "        missing_percent = missing_percentage[column]\n",
    "        if missing_percent >= 90:\n",
    "            suggestions[column] = \"Remover (Mais de 90% de dados ausentes)\"\n",
    "        elif missing_percent >= 30:\n",
    "            suggestions[column] = \"Avaliar a remoção (Entre 30% e 90% de dados ausentes)\"\n",
    "        else:\n",
    "            suggestions[column] = \"Preencher com média, mediana, moda ou valor específico (Menos de 30% de dados ausentes)\"\n",
    "\n",
    "    return missing_percentage, suggestions\n",
    "\n",
    "# Detecta dados faltantes e sugere tratamentos\n",
    "missing_percentage, suggestions = detect_missing_data(df)\n",
    "\n",
    "# Exibe a porcentagem de dados ausentes\n",
    "print(\"Porcentagem de Dados Ausentes:\")\n",
    "print(missing_percentage)\n",
    "\n",
    "# Exibe as sugestões de tratamento\n",
    "print(\"\\nSugestões de Tratamento:\")\n",
    "for column, suggestion in suggestions.items():\n",
    "    print(f\"{column}: {suggestion}\")"
   ]
  },
  {
   "cell_type": "markdown",
   "id": "6109e884-f47b-4a47-9237-5ee447c9f120",
   "metadata": {},
   "source": [
    "Neste código, primeiro, criamos um DataFrame de exemplo com dados faltantes. Em seguida, a função detect_missing_data calcula a porcentagem de dados ausentes para cada coluna e sugere tratamentos com base na porcentagem de dados ausentes. As sugestões incluem remover colunas com mais de 90% de dados ausentes, avaliar a remoção de colunas com entre 30% e 90% de dados ausentes e preencher as colunas com menos de 30% de dados ausentes com média, mediana, moda ou um valor específico.\r\n",
    "\r\n",
    "Você pode adaptar este código para o seu conjunto de dados específico, ajustando o limite de porcentagem e as estratégias de tratamento conforme necessário."
   ]
  },
  {
   "cell_type": "markdown",
   "id": "a71fde02-c654-4e30-93a2-a196c1018cea",
   "metadata": {},
   "source": [
    "## Lidando com Dados Faltantes"
   ]
  },
  {
   "cell_type": "markdown",
   "id": "6f991c3d-3c37-43d8-beeb-f4f5abf076b4",
   "metadata": {},
   "source": [
    "O tratamento de dados faltantes é uma etapa crítica na preparação de dados para análise e modelagem em ciência de dados. Como cientistas de dados, frequentemente nos deparamos com dados ausentes em nossos conjuntos de dados. A maneira como lidamos com esses valores ausentes pode variar de acordo com o domínio e o contexto específico do conjunto de dados em que estamos trabalhando. Neste tutorial, exploraremos estratégias comuns para lidar com dados ausentes e como implementá-las em Python."
   ]
  },
  {
   "cell_type": "markdown",
   "id": "ff7115b3-991a-4e5b-aea6-b35debfc8089",
   "metadata": {},
   "source": [
    "### Identificando a Causa dos Dados Ausentes"
   ]
  },
  {
   "cell_type": "markdown",
   "id": "322cd676-0795-49e5-83cf-f2736557c723",
   "metadata": {},
   "source": [
    "Antes de escolher uma estratégia para lidar com dados faltantes, é importante entender a causa subjacente desses valores ausentes. Perguntas essenciais a serem feitas incluem:\r\n",
    "\r\n",
    "* **O que causou os valores ausentes?** Foi um erro de coleta de dados, um problema de sensor, ou os dados estão realmente ausentes?\r\n",
    "    \r\n",
    "* **Os valores ausentes representam algum evento ou história específica?** Os valores ausentes têm um significado especial, ou são aleatórios?\r\n",
    "    \r\n",
    "\r\n",
    "Compreender a causa raiz dos dados ausentes pode ajudar na seleção da estratégia adequada para tratá-los."
   ]
  },
  {
   "cell_type": "markdown",
   "id": "fd1d5de3-869d-4332-a97a-90378cc50ab0",
   "metadata": {},
   "source": [
    "### Estratégias para Lidar com Dados Ausentes"
   ]
  },
  {
   "cell_type": "markdown",
   "id": "93460152-b40a-42c2-b019-42907bf7b79e",
   "metadata": {},
   "source": [
    "Existem várias estratégias comuns para lidar com dados ausentes. A escolha da estratégia depende da natureza dos dados e do impacto potencial na análise ou no modelo. Algumas das estratégias mais comuns incluem:\r\n",
    "\r\n",
    "#### 1. Remoção de Dados Ausentes\r\n",
    "\r\n",
    "Uma abordagem simples é remover as linhas ou colunas que contêm dados ausentes. Isso pode ser apropriado quando:\r\n",
    "\r\n",
    "* Os dados ausentes representam uma pequena proporção do conjunto de dados.\r\n",
    "* Os dados ausentes não carregam informações significativas para a análise.\r\n",
    "\r\n",
    "**Exemplo de Código:**"
   ]
  },
  {
   "cell_type": "code",
   "execution_count": 9,
   "id": "0da1f96e-bcfe-48c7-9fa6-1eb32d508090",
   "metadata": {},
   "outputs": [],
   "source": [
    "# Remover linhas com dados ausentes\n",
    "df.dropna(axis=0, inplace=True)\n",
    "\n",
    "# Remover colunas com dados ausentes\n",
    "df.dropna(axis=1, inplace=True)"
   ]
  },
  {
   "cell_type": "markdown",
   "id": "3ec64196-d824-4978-88b0-f9f2ec230a6f",
   "metadata": {},
   "source": [
    "### 2. Preenchimento de Valores\r\n",
    "\r\n",
    "Outra abordagem é preencher os valores ausentes com informações apropriadas. Isso pode ser feito usando técnicas como preenchimento com a média, mediana, moda ou um valor específico, dependendo da natureza dos dados.\r\n",
    "\r\n",
    "**Exemplo de Código (preenchimento com média):**"
   ]
  },
  {
   "cell_type": "code",
   "execution_count": 11,
   "id": "bcf9e079-51de-4d1b-a52a-4dc112ebcb6e",
   "metadata": {},
   "outputs": [
    {
     "name": "stdout",
     "output_type": "stream",
     "text": [
      "DataFrame antes do preenchimento:\n",
      "   Coluna_A  Coluna_B\n",
      "0       1.0      10.0\n",
      "1       2.0       NaN\n",
      "2       3.0      30.0\n",
      "3       4.0      40.0\n",
      "4       NaN      50.0\n",
      "5       6.0       NaN\n",
      "6       7.0      70.0\n",
      "\n",
      "DataFrame após o preenchimento:\n",
      "   Coluna_A  Coluna_B\n",
      "0  1.000000      10.0\n",
      "1  2.000000      40.0\n",
      "2  3.000000      30.0\n",
      "3  4.000000      40.0\n",
      "4  3.833333      50.0\n",
      "5  6.000000      40.0\n",
      "6  7.000000      70.0\n"
     ]
    }
   ],
   "source": [
    "import pandas as pd\n",
    "import numpy as np\n",
    "\n",
    "# Criar um DataFrame de exemplo com dados ausentes\n",
    "data = {\n",
    "    'Coluna_A': [1, 2, 3, 4, None, 6, 7],\n",
    "    'Coluna_B': [10, None, 30, 40, 50, None, 70]\n",
    "}\n",
    "\n",
    "df = pd.DataFrame(data)\n",
    "\n",
    "# Exibir o DataFrame antes do preenchimento\n",
    "print(\"DataFrame antes do preenchimento:\")\n",
    "print(df)\n",
    "\n",
    "# Preencher dados ausentes com a média da coluna\n",
    "df['Coluna_A'].fillna(df['Coluna_A'].mean(), inplace=True)\n",
    "df['Coluna_B'].fillna(df['Coluna_B'].mean(), inplace=True)\n",
    "\n",
    "# Exibir o DataFrame após o preenchimento\n",
    "print(\"\\nDataFrame após o preenchimento:\")\n",
    "print(df)"
   ]
  },
  {
   "cell_type": "markdown",
   "id": "34666015-c1bf-487d-b87d-f4a7ec994d36",
   "metadata": {},
   "source": [
    "#### 3. Uso de Modelos de Imputação\r\n",
    "\r\n",
    "Modelos de imputação, como regressão linear, podem ser usados para estimar valores ausentes com base em outras características. Essa abordagem é especialmente útil quando os dados ausentes estão relacionados a outras variáveis.\r\n",
    "\r\n",
    "**Exemplo de Código (imputação usando regressão linear):**"
   ]
  },
  {
   "cell_type": "code",
   "execution_count": 20,
   "id": "f9d11a2d-7028-4bad-a835-6a65d2fa3498",
   "metadata": {},
   "outputs": [
    {
     "name": "stdout",
     "output_type": "stream",
     "text": [
      "DataFrame antes do preenchimento:\n",
      "   feature1  feature2  Coluna\n",
      "0         1        10     2.1\n",
      "1         2        20     4.0\n",
      "2         3        30     NaN\n",
      "3         4        40     8.0\n",
      "4         5        50     NaN\n",
      "5         6        60     NaN\n",
      "6         7        70    12.0\n",
      "\n",
      "DataFrame após o preenchimento:\n",
      "   feature1  feature2     Coluna\n",
      "0         1        10   2.100000\n",
      "1         2        20   4.000000\n",
      "2         3        30   5.697619\n",
      "3         4        40   8.000000\n",
      "4         5        50   9.007143\n",
      "5         6        60  10.661905\n",
      "6         7        70  12.000000\n"
     ]
    }
   ],
   "source": [
    "import pandas as pd\n",
    "import numpy as np\n",
    "\n",
    "# Criar um DataFrame de exemplo com dados ausentes\n",
    "data = {\n",
    "    'feature1': [1, 2, 3, 4, 5, 6, 7],\n",
    "    'feature2': [10, 20, 30, 40, 50, 60, 70],\n",
    "    'Coluna': [2.1, 4.0, None, 8.0, None, None, 12.0]\n",
    "}\n",
    "\n",
    "df = pd.DataFrame(data)\n",
    "\n",
    "# Exibir o DataFrame antes do preenchimento\n",
    "print(\"DataFrame antes do preenchimento:\")\n",
    "print(df)\n",
    "\n",
    "from sklearn.linear_model import LinearRegression\n",
    "\n",
    "# Criar um modelo de regressão linear\n",
    "model = LinearRegression()\n",
    "\n",
    "# Separar dados com valores ausentes e sem valores ausentes\n",
    "df_with_missing = df[df['Coluna'].notnull()]\n",
    "df_missing = df[df['Coluna'].isnull()]\n",
    "\n",
    "# Treinar o modelo nos dados completos\n",
    "model.fit(df_with_missing[['feature1', 'feature2']], df_with_missing['Coluna'])\n",
    "\n",
    "# Prever valores para os dados ausentes\n",
    "predicted_values = model.predict(df_missing[['feature1', 'feature2']])\n",
    "\n",
    "# Preencher os valores ausentes com as previsões\n",
    "df.loc[df['Coluna'].isnull(), 'Coluna'] = predicted_values\n",
    "\n",
    "# Exibir o DataFrame após o preenchimento\n",
    "print(\"\\nDataFrame após o preenchimento:\")\n",
    "print(df)"
   ]
  },
  {
   "cell_type": "markdown",
   "id": "17af8ed5-ac70-48cd-91eb-2cfa9123fc86",
   "metadata": {},
   "source": [
    "#### 4. Manter Dados Ausentes\r\n",
    "\r\n",
    "Em algumas situações, pode ser apropriado manter os dados ausentes. Isso é válido quando os valores ausentes contêm informações importantes ou quando a imputação pode introduzir viés nos dados.\r\n",
    "\r\n",
    "A escolha da estratégia depende da compreensão do domínio, da natureza dos dados e dos objetivos da análise ou modelagem. Não existe uma abordagem única que seja adequada para todos os casos, portanto, é essencial considerar cuidadosamente as implicações de cada estratégia ao lidar com dados ausentes."
   ]
  },
  {
   "cell_type": "markdown",
   "id": "4f8b26d8-d8b0-4380-a69f-104bdfeba880",
   "metadata": {},
   "source": [
    "## SimpleImputer"
   ]
  },
  {
   "cell_type": "markdown",
   "id": "a7d282c3-ab1b-4d01-a856-7ef77517d3c8",
   "metadata": {},
   "source": [
    "O `SimpleImputer` é uma ferramenta poderosa fornecida pela biblioteca scikit-learn (Sklearn) para lidar com dados ausentes. Ele permite que você substitua valores ausentes por valores específicos, como média, mediana, moda ou um valor constante. Vamos aprender como usar o `SimpleImputer` em Python:\r\n",
    "\r\n",
    "**Passo 1: Importar a Biblioteca e Criar um DataFrame de Exemplo**\r\n",
    "\r\n",
    "Antes de começar, é necessário importar as bibliotecas Pandas e Scikit-Learn e criar um DataFrame de exemplo que contenha dados ausentes."
   ]
  },
  {
   "cell_type": "code",
   "execution_count": 21,
   "id": "23467163-2493-440a-a9c7-0cb18635a315",
   "metadata": {},
   "outputs": [],
   "source": [
    "import pandas as pd\n",
    "import numpy as np\n",
    "from sklearn.impute import SimpleImputer\n",
    "\n",
    "# Criar um DataFrame de exemplo com dados ausentes\n",
    "data = {\n",
    "    'feature1': [1, 2, 3, 4, 5, np.nan, 7],\n",
    "    'feature2': [10, 20, np.nan, 40, 50, 60, 70],\n",
    "    'Coluna': [2.1, 4.0, 6.5, np.nan, 8.0, np.nan, 12.0]\n",
    "}\n",
    "\n",
    "df = pd.DataFrame(data)"
   ]
  },
  {
   "cell_type": "markdown",
   "id": "4dbaf7d2-84e5-4535-823a-9de0ccc701b2",
   "metadata": {},
   "source": [
    "**Passo 2: Criar um Objeto `SimpleImputer`**\r\n",
    "\r\n",
    "Agora, vamos criar um objeto `SimpleImputer`. Você precisa especificar a estratégia que deseja usar para preencher os valores ausentes. As estratégias comuns incluem \"mean\" (média), \"median\" (mediana), \"most_frequent\" (moda) e \"constant\" (valor constante)."
   ]
  },
  {
   "cell_type": "code",
   "execution_count": 22,
   "id": "357cd665-536b-402b-8ac9-1717f2926b9d",
   "metadata": {},
   "outputs": [],
   "source": [
    "# Criar um objeto SimpleImputer com a estratégia de preenchimento desejada (por exemplo, média)\n",
    "imputer = SimpleImputer(strategy='mean')"
   ]
  },
  {
   "cell_type": "markdown",
   "id": "bf63ff79-1f0a-43ea-8363-c3b7060ad7f4",
   "metadata": {},
   "source": [
    "**Passo 3: Ajustar o Imputer aos Dados**\r\n",
    "\r\n",
    "O próximo passo é ajustar o imputer aos dados que você deseja preencher. No nosso caso, queremos preencher os valores ausentes nas colunas 'feature1', 'feature2' e 'Coluna'."
   ]
  },
  {
   "cell_type": "code",
   "execution_count": 23,
   "id": "e86ed72f-1615-49aa-b58a-87222020c536",
   "metadata": {},
   "outputs": [
    {
     "data": {
      "text/html": [
       "<style>#sk-container-id-1 {color: black;}#sk-container-id-1 pre{padding: 0;}#sk-container-id-1 div.sk-toggleable {background-color: white;}#sk-container-id-1 label.sk-toggleable__label {cursor: pointer;display: block;width: 100%;margin-bottom: 0;padding: 0.3em;box-sizing: border-box;text-align: center;}#sk-container-id-1 label.sk-toggleable__label-arrow:before {content: \"▸\";float: left;margin-right: 0.25em;color: #696969;}#sk-container-id-1 label.sk-toggleable__label-arrow:hover:before {color: black;}#sk-container-id-1 div.sk-estimator:hover label.sk-toggleable__label-arrow:before {color: black;}#sk-container-id-1 div.sk-toggleable__content {max-height: 0;max-width: 0;overflow: hidden;text-align: left;background-color: #f0f8ff;}#sk-container-id-1 div.sk-toggleable__content pre {margin: 0.2em;color: black;border-radius: 0.25em;background-color: #f0f8ff;}#sk-container-id-1 input.sk-toggleable__control:checked~div.sk-toggleable__content {max-height: 200px;max-width: 100%;overflow: auto;}#sk-container-id-1 input.sk-toggleable__control:checked~label.sk-toggleable__label-arrow:before {content: \"▾\";}#sk-container-id-1 div.sk-estimator input.sk-toggleable__control:checked~label.sk-toggleable__label {background-color: #d4ebff;}#sk-container-id-1 div.sk-label input.sk-toggleable__control:checked~label.sk-toggleable__label {background-color: #d4ebff;}#sk-container-id-1 input.sk-hidden--visually {border: 0;clip: rect(1px 1px 1px 1px);clip: rect(1px, 1px, 1px, 1px);height: 1px;margin: -1px;overflow: hidden;padding: 0;position: absolute;width: 1px;}#sk-container-id-1 div.sk-estimator {font-family: monospace;background-color: #f0f8ff;border: 1px dotted black;border-radius: 0.25em;box-sizing: border-box;margin-bottom: 0.5em;}#sk-container-id-1 div.sk-estimator:hover {background-color: #d4ebff;}#sk-container-id-1 div.sk-parallel-item::after {content: \"\";width: 100%;border-bottom: 1px solid gray;flex-grow: 1;}#sk-container-id-1 div.sk-label:hover label.sk-toggleable__label {background-color: #d4ebff;}#sk-container-id-1 div.sk-serial::before {content: \"\";position: absolute;border-left: 1px solid gray;box-sizing: border-box;top: 0;bottom: 0;left: 50%;z-index: 0;}#sk-container-id-1 div.sk-serial {display: flex;flex-direction: column;align-items: center;background-color: white;padding-right: 0.2em;padding-left: 0.2em;position: relative;}#sk-container-id-1 div.sk-item {position: relative;z-index: 1;}#sk-container-id-1 div.sk-parallel {display: flex;align-items: stretch;justify-content: center;background-color: white;position: relative;}#sk-container-id-1 div.sk-item::before, #sk-container-id-1 div.sk-parallel-item::before {content: \"\";position: absolute;border-left: 1px solid gray;box-sizing: border-box;top: 0;bottom: 0;left: 50%;z-index: -1;}#sk-container-id-1 div.sk-parallel-item {display: flex;flex-direction: column;z-index: 1;position: relative;background-color: white;}#sk-container-id-1 div.sk-parallel-item:first-child::after {align-self: flex-end;width: 50%;}#sk-container-id-1 div.sk-parallel-item:last-child::after {align-self: flex-start;width: 50%;}#sk-container-id-1 div.sk-parallel-item:only-child::after {width: 0;}#sk-container-id-1 div.sk-dashed-wrapped {border: 1px dashed gray;margin: 0 0.4em 0.5em 0.4em;box-sizing: border-box;padding-bottom: 0.4em;background-color: white;}#sk-container-id-1 div.sk-label label {font-family: monospace;font-weight: bold;display: inline-block;line-height: 1.2em;}#sk-container-id-1 div.sk-label-container {text-align: center;}#sk-container-id-1 div.sk-container {/* jupyter's `normalize.less` sets `[hidden] { display: none; }` but bootstrap.min.css set `[hidden] { display: none !important; }` so we also need the `!important` here to be able to override the default hidden behavior on the sphinx rendered scikit-learn.org. See: https://github.com/scikit-learn/scikit-learn/issues/21755 */display: inline-block !important;position: relative;}#sk-container-id-1 div.sk-text-repr-fallback {display: none;}</style><div id=\"sk-container-id-1\" class=\"sk-top-container\"><div class=\"sk-text-repr-fallback\"><pre>SimpleImputer()</pre><b>In a Jupyter environment, please rerun this cell to show the HTML representation or trust the notebook. <br />On GitHub, the HTML representation is unable to render, please try loading this page with nbviewer.org.</b></div><div class=\"sk-container\" hidden><div class=\"sk-item\"><div class=\"sk-estimator sk-toggleable\"><input class=\"sk-toggleable__control sk-hidden--visually\" id=\"sk-estimator-id-1\" type=\"checkbox\" checked><label for=\"sk-estimator-id-1\" class=\"sk-toggleable__label sk-toggleable__label-arrow\">SimpleImputer</label><div class=\"sk-toggleable__content\"><pre>SimpleImputer()</pre></div></div></div></div></div>"
      ],
      "text/plain": [
       "SimpleImputer()"
      ]
     },
     "execution_count": 23,
     "metadata": {},
     "output_type": "execute_result"
    }
   ],
   "source": [
    "# Ajustar o imputer aos dados\n",
    "imputer.fit(df[['feature1', 'feature2', 'Coluna']])"
   ]
  },
  {
   "cell_type": "markdown",
   "id": "d6629928-bb45-4340-a060-f917d34ccf4c",
   "metadata": {},
   "source": [
    "**Passo 4: Transformar os Dados com os Valores Preenchidos**\r\n",
    "\r\n",
    "Após ajustar o imputer aos dados, você pode usá-lo para preencher os valores ausentes nos mesmos dados. O método `transform` retorna um novo DataFrame com os valores ausentes preenchidos."
   ]
  },
  {
   "cell_type": "code",
   "execution_count": 25,
   "id": "e44708b7-4cd0-4cef-994d-77c8b3256f63",
   "metadata": {},
   "outputs": [],
   "source": [
    "# Preencher os valores ausentes nos dados originais\n",
    "df_filled = imputer.transform(df[['feature1', 'feature2', 'Coluna']])\n",
    "\n",
    "# Substituir as colunas originais pelas colunas preenchidas\n",
    "df[['feature1', 'feature2', 'Coluna']] = df_filled"
   ]
  },
  {
   "cell_type": "markdown",
   "id": "7b87fc2b-f0e2-42cc-9fdf-cc690f2a65c7",
   "metadata": {},
   "source": [
    "**Passo 5: Exibir o DataFrame Após o Preenchimento**\n",
    "\n",
    "Agora, você pode exibir o DataFrame após o preenchimento para verificar como os valores ausentes foram substituídos."
   ]
  },
  {
   "cell_type": "code",
   "execution_count": 27,
   "id": "368f7fcf-2cf3-4918-bf7e-d22faec52d47",
   "metadata": {},
   "outputs": [
    {
     "name": "stdout",
     "output_type": "stream",
     "text": [
      "DataFrame após o preenchimento:\n",
      "   feature1   feature2  Coluna\n",
      "0  1.000000  10.000000    2.10\n",
      "1  2.000000  20.000000    4.00\n",
      "2  3.000000  41.666667    6.50\n",
      "3  4.000000  40.000000    6.52\n",
      "4  5.000000  50.000000    8.00\n",
      "5  3.666667  60.000000    6.52\n",
      "6  7.000000  70.000000   12.00\n"
     ]
    }
   ],
   "source": [
    "print(\"DataFrame após o preenchimento:\")\n",
    "print(df)"
   ]
  },
  {
   "cell_type": "markdown",
   "id": "1c5a7440-eb78-4085-a589-bf4fb2007194",
   "metadata": {},
   "source": [
    "O `SimpleImputer` é uma ferramenta conveniente para lidar com dados ausentes, e a escolha da estratégia depende do seu cenário específico. Lembre-se de ajustar o imputer apenas às colunas com valores numéricos, pois ele não pode ser usado diretamente em colunas de texto."
   ]
  },
  {
   "cell_type": "markdown",
   "id": "57299933-9203-4729-99c5-0accbe48093f",
   "metadata": {},
   "source": [
    "## Outliers: Compreendendo e Lidando com Valores Extremos em Dados"
   ]
  },
  {
   "cell_type": "markdown",
   "id": "f68a4a37-d028-4413-9242-9f4c166d83d0",
   "metadata": {},
   "source": [
    "Outliers, ou valores extremos, são pontos de dados que se afastam significativamente da maioria dos outros pontos em um conjunto de dados. Eles são observações que são atípicas, incomuns ou anômalas em relação ao restante dos dados e podem representar informações valiosas ou erros nos dados. Entender e lidar com outliers é uma parte importante da análise de dados e da modelagem estatística. Vamos explorar o que são outliers, como identificá-los e abordagens comuns para tratá-los.\r\n",
    "\r\n",
    "**Características dos Outliers:**\r\n",
    "\r\n",
    "* **Valores Extremos:** Outliers são valores que estão muito acima ou muito abaixo da maioria dos dados em um conjunto.\r\n",
    "* **Inconsistência:** Eles podem ser causados por erros de medição, entrada incorreta de dados ou eventos raros.\r\n",
    "* **Impacto:** Outliers podem distorcer a estatística descritiva, como média e desvio padrão, e afetar negativamente a precisão dos modelos estatísticos.\r\n",
    "\r\n",
    "**Identificação de Outliers:**\r\n",
    "\r\n",
    "A identificação de outliers é uma etapa crucial na análise de dados. Existem várias técnicas para detectar outliers:\r\n",
    "\r\n",
    "1. **Diagramas de Caixa (Boxplots):** Um boxplot exibe a distribuição dos dados, destacando os quartis e os pontos fora do intervalo interquartil.\r\n",
    "2. **Análise de Desvio Padrão:** Valores que estão a mais de 2 ou 3 desvios padrão da média são frequentemente considerados outliers.\r\n",
    "3. **Gráficos de Dispersão:** Visualizar os dados em gráficos de dispersão pode revelar pontos que estão distantes da tendência geral.\r\n",
    "4. **Testes Estatísticos:** Testes estatísticos como o teste Z ou o teste T podem ser usados para identificar pontos que estão significativamente fora da norma.\r\n",
    "5. **Visualização de Dados:** A simples visualização dos dados em gráficos pode muitas vezes destacar observações anômalas.\r\n",
    "\r\n",
    "**Lidando com Outliers:**\r\n",
    "\r\n",
    "Dependendo do contexto e da causa dos outliers, várias abordagens podem ser adotadas para lidar com eles:\r\n",
    "\r\n",
    "1. **Remoção:** A maneira mais simples de lidar com outliers é removê-los do conjunto de dados. Isso é apropriado quando os outliers são erros de medição ou representam eventos extremamente raros que não são de interesse.\r\n",
    "2. **Transformação de Dados:** Aplicar transformações matemáticas, como a raiz quadrada, logaritmo ou escala, pode reduzir a influência de outliers.\r\n",
    "3. **Substituição:** Os outliers podem ser substituídos por valores mais típicos, como a média, mediana ou valores interpolados.\r\n",
    "4. **Modelagem Robusta:** Usar modelos de aprendizado de máquina robustos a outliers, como modelos baseados em árvores, pode mitigar o impacto dos valores extremos.\r\n",
    "5. **Análise Separada:** Em alguns casos, pode ser útil analisar os outliers separadamente para entender melhor suas causas e efeitos."
   ]
  },
  {
   "cell_type": "code",
   "execution_count": 33,
   "id": "40085635-78a2-42eb-88a7-adb6224a3da6",
   "metadata": {},
   "outputs": [
    {
     "data": {
      "image/png": "[encoded data removed]",
      "text/plain": [
       "<Figure size 1000x600 with 1 Axes>"
      ]
     },
     "metadata": {},
     "output_type": "display_data"
    }
   ],
   "source": [
    "import matplotlib.pyplot as plt\n",
    "import seaborn as sns\n",
    "from sklearn.datasets import load_wine\n",
    "import pandas as pd\n",
    "import warnings\n",
    "\n",
    "# Desabilitar os avisos\n",
    "warnings.filterwarnings(\"ignore\")\n",
    "\n",
    "# Carregar o dataset de vinho do Scikit-Learn\n",
    "wine_data = load_wine()\n",
    "wine_df = pd.DataFrame(data=wine_data.data, columns=wine_data.feature_names)\n",
    "\n",
    "# Escolher uma coluna para criar o boxplot (por exemplo, \"alcohol\")\n",
    "column_name = \"alcohol\"\n",
    "\n",
    "# Criar um boxplot com os dados representados como bolas (pontos)\n",
    "plt.figure(figsize=(10, 6))\n",
    "sns.boxplot(data=wine_df[column_name], color=\"skyblue\")\n",
    "sns.stripplot(data=wine_df[column_name], jitter=True, color=\"red\")\n",
    "\n",
    "# Adicionar rótulos e título\n",
    "plt.xlabel(\"Característica\")\n",
    "plt.ylabel(\"Valores\")\n",
    "plt.title(f\"Boxplot de {column_name} com Dados Representados como Bolas no Dataset de Vinho\")\n",
    "\n",
    "# Exibir o gráfico\n",
    "plt.show()"
   ]
  },
  {
   "cell_type": "markdown",
   "id": "3f126479-04ef-43e3-9611-766fb2c04c84",
   "metadata": {},
   "source": [
    "Neste exemplo, usamos o dataset de vinho do Seaborn e criamos um boxplot que mostra a relação entre a qualidade do vinho e o teor alcoólico. Os outliers podem ser identificados como pontos individuais acima ou abaixo das \"caixas\" no gráfico.\n",
    "\n",
    "**O que são Falsos Outliers?**\r\n",
    "\r\n",
    "Os falsos outliers são pontos de dados que, à primeira vista, parecem estar fora do padrão normal da distribuição, mas, na realidade, são observações válidas e não indicam nenhum problema nos dados. A presença de falsos outliers pode ser devido a várias razões:\r\n",
    "\r\n",
    "1. **Variabilidade Natural:** Em distribuições de dados, a variabilidade natural pode resultar na ocorrência de valores que ocasionalmente se desviam do padrão, mas ainda são parte legítima da distribuição. Esses valores podem ser erroneamente considerados outliers se a análise não levar em conta a variabilidade intrínseca dos dados.\r\n",
    "    \r\n",
    "2. **Erros de Medição:** Erros de medição ou registro de dados podem criar valores que se destacam, mas são simplesmente o resultado de enganos no processo de coleta de dados. Esses \"outliers\" não refletem necessariamente uma característica real dos dados.\r\n",
    "    \r\n",
    "3. **Dados Extremos:** Em algumas situações, os valores extremos são esperados e representam eventos raros, mas legítimos. Por exemplo, em análises financeiras, eventos de mercado extremamente voláteis podem resultar em valores que parecem ser outliers, mas são inerentes à natureza do mercado.\r\n",
    "    \r\n",
    "\r\n",
    "**Lidando com Falsos Outliers:**\r\n",
    "\r\n",
    "Identificar falsos outliers pode ser desafiador, mas é uma etapa importante na análise de dados para evitar conclusões incorretas. Aqui estão algumas estratégias para lidar com essa questão:\r\n",
    "\r\n",
    "1. **Compreensão do Domínio:** Ter um profundo entendimento do domínio dos dados é crucial. Isso ajuda a reconhecer situações em que valores extremos são legítimos e esperados.\r\n",
    "    \r\n",
    "2. **Visualização:** A visualização de dados, como gráficos de caixa (boxplots) e gráficos de dispersão, pode ser útil para identificar valores que parecem ser outliers. No entanto, é importante não concluir imediatamente que eles são outliers sem uma investigação adicional.\r\n",
    "    \r\n",
    "3. **Análise Estatística:** Utilize medidas estatísticas robustas, como o intervalo interquartil (IQR), em conjunto com critérios estatísticos para identificar outliers. Essas abordagens podem ajudar a distinguir entre valores extremos reais e falsos outliers.\r\n",
    "    \r\n",
    "4. **Revisão de Dados:** Revise os dados em busca de erros de medição ou registro que possam ter criado falsos outliers. Corrija esses erros, se possível.\r\n",
    "    \r\n",
    "5. **Contexto:** Considere o contexto em que os dados foram coletados e avalie se os valores que parecem ser outliers fazem sentido\n",
    "\n",
    "Vamos explorar como realizar esse processo no Wine Dataset, um conjunto de dados de amostra amplamente utilizado.\r\n",
    "\r\n",
    "**Passo 1: Carregar o Conjunto de Dados e Importar as Bibliotecas**\r\n",
    "\r\n",
    "Primeiro, carregamos o conjunto de dados Wine Dataset e importamos as bibliotecas necessárias: dentro desse contexto."
   ]
  },
  {
   "cell_type": "code",
   "execution_count": 34,
   "id": "10bc032e-acca-4c87-88fb-88f8b09efa5d",
   "metadata": {},
   "outputs": [],
   "source": [
    "import pandas as pd\n",
    "from sklearn.datasets import load_wine\n",
    "\n",
    "# Carregar o conjunto de dados Wine\n",
    "wine_data = load_wine()\n",
    "df = pd.DataFrame(data=wine_data.data, columns=wine_data.feature_names)"
   ]
  },
  {
   "cell_type": "markdown",
   "id": "09576617-583c-4f97-9c44-b32c71c45172",
   "metadata": {},
   "source": [
    "**Passo 2: Identificar Outliers**\r\n",
    "\r\n",
    "Vamos usar a visualização de boxplot para identificar outliers em uma das características, como \"alcohol\":"
   ]
  },
  {
   "cell_type": "code",
   "execution_count": 35,
   "id": "aa1cfa01-f816-4e74-94b8-a780e3400459",
   "metadata": {},
   "outputs": [
    {
     "data": {
      "image/png": "[encoded data removed]",
      "text/plain": [
       "<Figure size 800x600 with 1 Axes>"
      ]
     },
     "metadata": {},
     "output_type": "display_data"
    }
   ],
   "source": [
    "import seaborn as sns\n",
    "import matplotlib.pyplot as plt\n",
    "\n",
    "# Escolher a coluna para análise (por exemplo, \"alcohol\")\n",
    "column_name = \"alcohol\"\n",
    "\n",
    "# Criar um boxplot\n",
    "plt.figure(figsize=(8, 6))\n",
    "sns.boxplot(x=df[column_name], color=\"skyblue\")\n",
    "plt.xlabel(\"Característica\")\n",
    "plt.title(f\"Boxplot da Característica '{column_name}' no Wine Dataset\")\n",
    "plt.show()"
   ]
  },
  {
   "cell_type": "markdown",
   "id": "4c6d24fa-d419-45cb-a997-7ec475f36b3b",
   "metadata": {},
   "source": [
    "Este gráfico de boxplot exibirá os outliers na característica \"alcohol\" do Wine Dataset.\r\n",
    "\r\n",
    "**Passo 3: Remover Outliers**\r\n",
    "\r\n",
    "Depois de identificar os outliers, podemos optar por removê-los. Vamos criar um novo DataFrame sem os outliers usando o critério do intervalo interquartil (IQR) como exemplo:"
   ]
  },
  {
   "cell_type": "code",
   "execution_count": 46,
   "id": "b026a1c4-1538-45c5-b052-84890a555d44",
   "metadata": {},
   "outputs": [
    {
     "data": {
      "image/png": "[encoded data removed]",
      "text/plain": [
       "<Figure size 1200x600 with 2 Axes>"
      ]
     },
     "metadata": {},
     "output_type": "display_data"
    },
    {
     "name": "stdout",
     "output_type": "stream",
     "text": [
      "DataFrame sem outliers:\n",
      "     total_bill   tip     sex smoker   day    time  size\n",
      "0         16.99  1.01  Female     No   Sun  Dinner     2\n",
      "1         10.34  1.66    Male     No   Sun  Dinner     3\n",
      "2         21.01  3.50    Male     No   Sun  Dinner     3\n",
      "3         23.68  3.31    Male     No   Sun  Dinner     2\n",
      "4         24.59  3.61  Female     No   Sun  Dinner     4\n",
      "..          ...   ...     ...    ...   ...     ...   ...\n",
      "239       29.03  5.92    Male     No   Sat  Dinner     3\n",
      "240       27.18  2.00  Female    Yes   Sat  Dinner     2\n",
      "241       22.67  2.00    Male    Yes   Sat  Dinner     2\n",
      "242       17.82  1.75    Male     No   Sat  Dinner     2\n",
      "243       18.78  3.00  Female     No  Thur  Dinner     2\n",
      "\n",
      "[235 rows x 7 columns]\n"
     ]
    }
   ],
   "source": [
    "import seaborn as sns\n",
    "import matplotlib.pyplot as plt\n",
    "\n",
    "# Importar o conjunto de dados\n",
    "df = sns.load_dataset(\"tips\")\n",
    "\n",
    "# Selecionar a coluna\n",
    "column_name = \"total_bill\"\n",
    "\n",
    "# Calcular o IQR\n",
    "Q1 = df[column_name].quantile(0.25)\n",
    "Q3 = df[column_name].quantile(0.75)\n",
    "IQR = Q3 - Q1\n",
    "\n",
    "# Definir limites para identificar outliers\n",
    "lower_limit = Q1 - 1.5 * IQR\n",
    "upper_limit = Q3 + 1.5 * IQR\n",
    "\n",
    "# Remover outliers\n",
    "df_no_outliers = df.query(f\"{column_name} >= {lower_limit} & {column_name} <= {upper_limit}\")\n",
    "\n",
    "# Criar um boxplot com os dados originais (antes da remoção de outliers)\n",
    "plt.figure(figsize=(12, 6))\n",
    "plt.subplot(1, 2, 1)  # Configurar subplot para lado esquerdo\n",
    "sns.boxplot(x=df[column_name], color=\"skyblue\")\n",
    "sns.stripplot(x=df[column_name], jitter=True, color=\"red\", size=5)\n",
    "plt.xlabel(\"Característica\")\n",
    "plt.title(f\"Boxplot da Característica '{column_name}' (Antes da Remoção de Outliers)\")\n",
    "\n",
    "# Criar um boxplot com os dados sem outliers (após a remoção)\n",
    "plt.subplot(1, 2, 2)  # Configurar subplot para lado direito\n",
    "sns.boxplot(x=df_no_outliers[column_name], color=\"skyblue\")\n",
    "sns.stripplot(x=df_no_outliers[column_name], jitter=True, color=\"red\", size=5)\n",
    "plt.xlabel(\"Característica\")\n",
    "plt.title(f\"Boxplot da Característica '{column_name}' (Após a Remoção de Outliers)\")\n",
    "\n",
    "plt.tight_layout()  # Garantir layout adequado\n",
    "plt.show()\n",
    "\n",
    "# Exibir DataFrame sem outliers\n",
    "print(\"DataFrame sem outliers:\")\n",
    "print(df_no_outliers)"
   ]
  },
  {
   "cell_type": "markdown",
   "id": "ab268727-400d-4302-b21e-bd13ca4443de",
   "metadata": {},
   "source": [
    "O gráfico antes da remoção de outliers mostra que a distribuição dos dados é assimétrica, com um cauda longa à direita. Isso indica que há alguns valores muito altos que estão puxando a média para cima.\r\n",
    "\r\n",
    "O gráfico depois da remoção de outliers mostra que a distribuição dos dados está mais simétrica. Isso indica que os outliers foram removidos, o que melhora a precisão da análise dos dados.\r\n",
    "\r\n",
    "Mais especificamente, o gráfico antes da remoção de outliers mostra que a mediana é de US 17.00, a média é de US 22.36 e o intervalo interquartil é de US 12.00. O outlier mais alto é de US 100.00, o que está muito acima do intervalo interquartil.\r\n",
    "\r\n",
    "O gráfico depois da remoção de outliers mostra que a mediana é de US 16.00, a média é de US 18.29 e o intervalo interquartil é de US 9.00. Não há outliers visíveis no gráfico.\r\n",
    "\r\n",
    "Em conclusão, a remoção de outliers melhora a precisão da análise dos dados, pois remove valores que podem distorcer a distribuição dos dados.s dados."
   ]
  }
 ],
 "metadata": {
  "kernelspec": {
   "display_name": "Python 3 (ipykernel)",
   "language": "python",
   "name": "python3"
  },
  "language_info": {
   "codemirror_mode": {
    "name": "ipython",
    "version": 3
   },
   "file_extension": ".py",
   "mimetype": "text/x-python",
   "name": "python",
   "nbconvert_exporter": "python",
   "pygments_lexer": "ipython3",
   "version": "3.11.5"
  }
 },
 "nbformat": 4,
 "nbformat_minor": 5
}
