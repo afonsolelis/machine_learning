{
 "cells": [
  {
   "cell_type": "markdown",
   "id": "63491370-dfce-4c89-a51a-7291c1522abe",
   "metadata": {},
   "source": [
    "# Desafio: Regressão Logística no Conjunto de Dados do Titanic\r\n",
    "\r\n",
    "Neste desafio, você fará a transição de modelar tarefas de regressão para uma tarefa de classificação usando regressão logística. Você trabalhará com o famoso conjunto de dados do Titanic, que contém informações sobre passageiros e se eles sobreviveram ou não.\r\n",
    "\r\n",
    "**Instruções:**\r\n",
    "\r\n",
    "1. Abra o arquivo Jupyter Notebook chamado \"Regressao_Logistica.ipynb\".\r\n",
    "    \r\n",
    "2. Siga as instruções passo a passo fornecidas no notebook para:\r\n",
    "    \r\n",
    "    * Carregar e explorar o conjunto de dados do Titanic.\r\n",
    "    * Pré-processar os dados, incluindo o tratamento de valores ausentes e a codificação de variáveis categóricas.\r\n",
    "    * Dividir os dados em um conjunto de treinamento e um conjunto de teste.\r\n",
    "    * Construir e treinar um modelo de regressão logística para prever a sobrevivência dos passageiros.\r\n",
    "    * Avaliar o desempenho do modelo usando métricas relevantes de classificação.\r\n",
    "    * Fazer previsões em novos dados usando o modelo treinado.\r\n",
    "3. Ao longo do caminho, você ganhará insights sobre regressão logística, tarefas de classificação e técnicas práticas de pré-processamento de dados.\r\n",
    "    \r\n",
    "4. Complete quaisquer desafios de programação e responda às perguntas apresentadas no notebook.\r\n",
    "    \r\n",
    "5. Sinta-se à vontade para experimentar com diferentes parâmetros, engenharia de recursos ou melhorias no modelo para aprimorar seu entendimento.\r\n",
    "    \r\n",
    "\r\n",
    "Ao concluir este desafio, você terá uma melhor compreensão da regressão logística e de como aplicá-la a problemas de classificação do mundo real. Divirta-se explorando o conjunto de dados do Titanic e construindo seu modelo de classificação!"
   ]
  },
  {
   "cell_type": "markdown",
   "id": "596958eb-c4b5-4fdf-b3f7-8cf716e4cc1c",
   "metadata": {},
   "source": [
    "# Resolução"
   ]
  },
  {
   "cell_type": "markdown",
   "id": "cb5b4b45-bb90-4fbc-92bb-9202036e0430",
   "metadata": {},
   "source": [
    "Aqui estão os passos para resolver o desafio:\r\n",
    "\r\n",
    "1. Importe as bibliotecas necessárias no Jupyter Notebook:"
   ]
  },
  {
   "cell_type": "code",
   "execution_count": 1,
   "id": "76bf992a-8df2-43a2-bf00-6fb95e949b86",
   "metadata": {},
   "outputs": [],
   "source": [
    "import pandas as pd\n",
    "import numpy as np\n",
    "import matplotlib.pyplot as plt\n",
    "import seaborn as sns\n",
    "from sklearn.model_selection import train_test_split\n",
    "from sklearn.linear_model import LogisticRegression\n",
    "from sklearn.metrics import accuracy_score, confusion_matrix, classification_report"
   ]
  },
  {
   "cell_type": "markdown",
   "id": "c9682692-e82c-48dc-8fc9-9432c754cad3",
   "metadata": {},
   "source": [
    "2. Carregue o conjunto de dados do Titanic:"
   ]
  },
  {
   "cell_type": "code",
   "execution_count": 2,
   "id": "791669e2-ccea-4359-89fd-db090fc1de38",
   "metadata": {},
   "outputs": [
    {
     "data": {
      "text/html": [
       "<div>\n",
       "<style scoped>\n",
       "    .dataframe tbody tr th:only-of-type {\n",
       "        vertical-align: middle;\n",
       "    }\n",
       "\n",
       "    .dataframe tbody tr th {\n",
       "        vertical-align: top;\n",
       "    }\n",
       "\n",
       "    .dataframe thead th {\n",
       "        text-align: right;\n",
       "    }\n",
       "</style>\n",
       "<table border=\"1\" class=\"dataframe\">\n",
       "  <thead>\n",
       "    <tr style=\"text-align: right;\">\n",
       "      <th></th>\n",
       "      <th>PassengerId</th>\n",
       "      <th>Survived</th>\n",
       "    </tr>\n",
       "  </thead>\n",
       "  <tbody>\n",
       "    <tr>\n",
       "      <th>0</th>\n",
       "      <td>892</td>\n",
       "      <td>0</td>\n",
       "    </tr>\n",
       "    <tr>\n",
       "      <th>1</th>\n",
       "      <td>893</td>\n",
       "      <td>1</td>\n",
       "    </tr>\n",
       "  </tbody>\n",
       "</table>\n",
       "</div>"
      ],
      "text/plain": [
       "   PassengerId  Survived\n",
       "0          892         0\n",
       "1          893         1"
      ]
     },
     "execution_count": 2,
     "metadata": {},
     "output_type": "execute_result"
    }
   ],
   "source": [
    "# Carregue o conjunto de dados do Titanic\n",
    "titanic_data = pd.read_csv(\"assets/titanic.csv\")\n",
    "titanic_data.head(2)"
   ]
  },
  {
   "cell_type": "markdown",
   "id": "b1c4ace5-e767-41a7-8b91-0fab350dc86f",
   "metadata": {},
   "source": [
    "3. Explore e pré-processe os dados:\r\n",
    "    \r\n",
    "    * Visualize informações básicas sobre os dados.\r\n",
    "    * Lide com valores ausentes.\r\n",
    "    * Encode variáveis categóricas.\r\n",
    "    * Selecione as características relevantes para o modelo."
   ]
  },
  {
   "cell_type": "markdown",
   "id": "47669d60-cd88-4dfe-a005-5b52bde8838b",
   "metadata": {},
   "source": [
    "4. Divida os dados em conjuntos de treinamento e teste, depois de tratar:"
   ]
  },
  {
   "cell_type": "code",
   "execution_count": 3,
   "id": "9ca59450-f7c6-4b91-b006-3ddbf67de6a9",
   "metadata": {},
   "outputs": [],
   "source": [
    "# Preencha os valores ausentes com algum valor (por exemplo, zero)\n",
    "titanic_data.fillna(0, inplace=True)\n",
    "\n",
    "# Separe o conjunto de dados em recursos (X) e o alvo (y)\n",
    "X = titanic_data[['PassengerId']]\n",
    "y = titanic_data['Survived']\n",
    "\n",
    "# Divida os dados em conjuntos de treinamento e teste\n",
    "X_train, X_test, y_train, y_test = train_test_split(X, y, test_size=0.2, random_state=42)"
   ]
  },
  {
   "cell_type": "markdown",
   "id": "661f5584-8a4b-463b-9215-b38df393fc01",
   "metadata": {},
   "source": [
    "5. Construa e treine o modelo de regressão logística:"
   ]
  },
  {
   "cell_type": "code",
   "execution_count": 4,
   "id": "6051a71f-8067-417d-820a-96f6bae49540",
   "metadata": {},
   "outputs": [],
   "source": [
    "# Crie e treine o modelo de regressão logística\n",
    "model = LogisticRegression()\n",
    "model.fit(X_train, y_train)\n",
    "\n",
    "# Faça previsões no conjunto de teste\n",
    "y_pred = model.predict(X_test)"
   ]
  },
  {
   "cell_type": "markdown",
   "id": "85f9c72c-9bae-430b-9ee9-42650e217cff",
   "metadata": {},
   "source": [
    "6. Avalie o desempenho do modelo:\n"
   ]
  },
  {
   "cell_type": "code",
   "execution_count": 5,
   "id": "770908ae-416e-4378-a544-fada096611c7",
   "metadata": {},
   "outputs": [
    {
     "name": "stdout",
     "output_type": "stream",
     "text": [
      "Acurácia do modelo: 59.52%\n"
     ]
    }
   ],
   "source": [
    "# Avalie o desempenho do modelo\n",
    "accuracy = accuracy_score(y_test, y_pred)\n",
    "print(f'Acurácia do modelo: {accuracy * 100:.2f}%')"
   ]
  }
 ],
 "metadata": {
  "kernelspec": {
   "display_name": "Python 3 (ipykernel)",
   "language": "python",
   "name": "python3"
  },
  "language_info": {
   "codemirror_mode": {
    "name": "ipython",
    "version": 3
   },
   "file_extension": ".py",
   "mimetype": "text/x-python",
   "name": "python",
   "nbconvert_exporter": "python",
   "pygments_lexer": "ipython3",
   "version": "3.11.5"
  }
 },
 "nbformat": 4,
 "nbformat_minor": 5
}
