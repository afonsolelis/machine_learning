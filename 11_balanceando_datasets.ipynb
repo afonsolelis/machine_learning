{
 "cells": [
  {
   "cell_type": "markdown",
   "id": "5f9e6033-3829-47cb-a47a-ff1f2bba0adb",
   "metadata": {},
   "source": [
    "# Balanceando Datasets"
   ]
  },
  {
   "cell_type": "markdown",
   "id": "8091afe7",
   "metadata": {},
   "source": [
    "Balancear datasets é uma etapa fundamental no processo de preparação de dados para machine learning. Quando se trata de treinar modelos de aprendizado de máquina, é essencial garantir que os dados de treinamento estejam equilibrados, ou seja, que não haja um viés significativo em relação a uma classe ou categoria específica em comparação com outras. Neste texto, discutiremos por que o balanceamento de datasets é importante e como realizar esse processo de forma eficaz.\n",
    "\n",
    "**Por que balancear datasets?**\n",
    "\n",
    "1. **Evitar Viés de Classe:** Dados desbalanceados podem levar a um viés no modelo de machine learning, uma vez que o modelo pode se tornar excessivamente inclinado para a classe majoritária. Isso ocorre porque o modelo tende a aprender mais sobre a classe com mais exemplos, enquanto ignora ou subestima as classes minoritárias.\n",
    "    \n",
    "2. **Melhorar o Desempenho Geral:** Modelos treinados em datasets balanceados tendem a ter um desempenho mais equilibrado em relação a todas as classes. Isso significa que o modelo será mais preciso na previsão de todas as categorias em vez de se concentrar apenas nas mais frequentes.\n",
    "    \n",
    "3. **Reduzir o Overfitting:** O desbalanceamento do dataset pode levar ao overfitting, onde o modelo aprende a classe majoritária com grande detalhe, mas falha em generalizar para as classes minoritárias. O balanceamento pode ajudar a reduzir o overfitting, tornando o modelo mais robusto.\n",
    "    \n",
    "\n",
    "**Como balancear datasets?**\n",
    "\n",
    "Existem várias técnicas para balancear um dataset:\n",
    "\n",
    "1. **Oversampling:** Esta técnica envolve a criação de cópias adicionais das amostras das classes minoritárias, aumentando assim a representação dessas classes. Isso pode ser feito de forma aleatória ou com técnicas mais avançadas, como o SMOTE (Synthetic Minority Over-sampling Technique), que gera amostras sintéticas com base nas existentes.\n",
    "    \n",
    "2. **Undersampling:** Aqui, reduz-se o número de amostras das classes majoritárias para torná-las comparáveis às classes minoritárias. Isso pode ser feito aleatoriamente ou usando métodos mais seletivos, como o NearMiss.\n",
    "    \n",
    "3. **Geração de Dados Sintéticos:** Além do SMOTE, outras técnicas de geração de dados sintéticos podem ser usadas para criar novas amostras para as classes minoritárias. Isso inclui ADASYN e Borderline-SMOTE.\n",
    "    \n",
    "4. **Peso das Classes:** Alguns algoritmos de machine learning permitem atribuir pesos diferentes às classes durante o treinamento. Isso dá mais importância às classes minoritárias, ajudando a equilibrar o modelo.\n",
    "    \n",
    "5. **Recolhimento de Dados:** Quando possível, coletar mais dados das classes minoritárias é a melhor abordagem, pois isso aumenta naturalmente a representação dessas classes."
   ]
  },
  {
   "cell_type": "markdown",
   "id": "70aca243",
   "metadata": {},
   "source": [
    "Existem várias bibliotecas em Python que facilitam o processo de balanceamento de datasets para machine learning. Essas bibliotecas oferecem funções e classes que permitem aplicar técnicas de oversampling, undersampling e geração de dados sintéticos de forma conveniente. Aqui estão algumas das bibliotecas mais populares para balanceamento de datasets:\n",
    "\n",
    "1. **Imbalanced-Learn (imblearn):** Essa é uma biblioteca muito conhecida e amplamente utilizada para lidar com datasets desbalanceados. Ela oferece uma ampla variedade de técnicas de oversampling, undersampling e geração de dados sintéticos, incluindo SMOTE, ADASYN, RandomOverSampler, RandomUnderSampler, entre outras.\n",
    "    \n",
    "    Site oficial: [Imbalanced-Learn (imblearn)](https://imbalanced-learn.org/stable/)\n",
    "    \n",
    "2. **Resampling do scikit-learn:** O scikit-learn, uma das bibliotecas mais populares para machine learning em Python, possui módulos de resampling que incluem técnicas de oversampling e undersampling. Embora não seja tão completo quanto o Imbalanced-Learn, pode ser uma opção conveniente se você já está familiarizado com o scikit-learn.\n",
    "    \n",
    "    Documentação do scikit-learn sobre resampling: [Resampling strategies for imbalanced datasets](https://scikit-learn.org/stable/over_sampling.html)\n",
    "    \n",
    "3. **SMOTE-variants:** Esta é uma extensão do Imbalanced-Learn que se concentra especificamente em diferentes variantes do SMOTE (Synthetic Minority Over-sampling Technique). Oferece uma seleção abrangente de métodos SMOTE para gerar dados sintéticos.\n",
    "    \n",
    "    GitHub: [SMOTE-variants](https://github.com/analyticalmindsltd/smote-variants)\n",
    "    \n",
    "4. **TensorFlow Data Validation (TFDV):** Se você estiver trabalhando com dados em TensorFlow, o TFDV oferece funcionalidades para verificar e estatísticas de dados desbalanceados, o que pode ser útil para identificar desequilíbrios antes de aplicar técnicas de balanceamento.\n",
    "    \n",
    "    Documentação do TensorFlow Data Validation: [TFDV - Data Validation](https://www.tensorflow.org/tfx/data_validation/get_started)\n",
    "    \n",
    "\n",
    "Lembre-se de que a escolha da biblioteca e da técnica de balanceamento dependerá do seu conjunto de dados específico e dos requisitos do seu projeto. É importante entender as nuances de cada técnica e como elas podem afetar o desempenho do seu modelo. Além disso, avalie cuidadosamente os resultados após o balanceamento para garantir que o modelo esteja se comportando conforme o esperado."
   ]
  },
  {
   "cell_type": "code",
   "execution_count": 2,
   "id": "55fea02f",
   "metadata": {},
   "outputs": [
    {
     "name": "stdout",
     "output_type": "stream",
     "text": [
      "Acurácia no conjunto de teste original: 1.0\n",
      "Acurácia no conjunto de teste com balanceamento: 1.0\n"
     ]
    }
   ],
   "source": [
    "import numpy as np\n",
    "from sklearn.datasets import load_iris\n",
    "from sklearn.model_selection import train_test_split\n",
    "from sklearn.ensemble import RandomForestClassifier\n",
    "from sklearn.metrics import accuracy_score\n",
    "from imblearn.under_sampling import RandomUnderSampler\n",
    "\n",
    "# Carregue o conjunto de dados Iris\n",
    "iris = load_iris()\n",
    "X, y = iris.data, iris.target\n",
    "\n",
    "# Divida os dados em conjuntos de treinamento e teste\n",
    "X_train, X_test, y_train, y_test = train_test_split(X, y, test_size=0.3, random_state=42)\n",
    "\n",
    "# Crie um modelo de classificação (usaremos RandomForest como exemplo)\n",
    "clf = RandomForestClassifier(random_state=42)\n",
    "\n",
    "# Treine o modelo no conjunto de treinamento original\n",
    "clf.fit(X_train, y_train)\n",
    "\n",
    "# Faça previsões no conjunto de teste original\n",
    "y_pred = clf.predict(X_test)\n",
    "\n",
    "# Calcule a acurácia no conjunto de teste original\n",
    "original_accuracy = accuracy_score(y_test, y_pred)\n",
    "print(\"Acurácia no conjunto de teste original:\", original_accuracy)\n",
    "\n",
    "# Aplicar RandomUnderSampler para balancear as classes\n",
    "rus = RandomUnderSampler(random_state=42)\n",
    "X_resampled, y_resampled = rus.fit_resample(X_train, y_train)\n",
    "\n",
    "# Treinar o modelo no conjunto de treinamento balanceado\n",
    "clf.fit(X_resampled, y_resampled)\n",
    "\n",
    "# Faça previsões no conjunto de teste original\n",
    "y_pred_balanced = clf.predict(X_test)\n",
    "\n",
    "# Calcule a acurácia no conjunto de teste com balanceamento\n",
    "balanced_accuracy = accuracy_score(y_test, y_pred_balanced)\n",
    "print(\"Acurácia no conjunto de teste com balanceamento:\", balanced_accuracy)"
   ]
  },
  {
   "cell_type": "markdown",
   "id": "6fc64f4e",
   "metadata": {},
   "source": [
    "Neste exemplo, começamos treinando um modelo RandomForest no conjunto de treinamento original do conjunto de dados Iris. Em seguida, aplicamos o RandomUnderSampler para balancear as classes no conjunto de treinamento, reduzindo o número de amostras das classes majoritárias. Finalmente, treinamos o modelo novamente com o conjunto de treinamento balanceado e calculamos a acurácia no conjunto de teste original e no conjunto de teste com balanceamento. Você notará que a acurácia no conjunto de teste com balanceamento pode ser mais equilibrada entre as classes do que a acurácia no conjunto de teste original."
   ]
  },
  {
   "cell_type": "markdown",
   "id": "8187be01",
   "metadata": {},
   "source": [
    "## Oversampling e Undersampling para Balancear Datasets em Machine Learning"
   ]
  },
  {
   "cell_type": "markdown",
   "id": "b15a07fe",
   "metadata": {},
   "source": [
    "Em muitos cenários de machine learning, os conjuntos de dados podem estar desbalanceados, o que significa que algumas classes têm muito mais amostras do que outras. Isso pode levar a problemas de viés de classe e impactar o desempenho do modelo. Duas abordagens comuns para lidar com datasets desbalanceados são o oversampling (aumento das amostras das classes minoritárias) e o undersampling (redução das amostras das classes majoritárias). Vamos explorar ambos os conceitos com exemplos de código.\n",
    "\n",
    "**Oversampling (Aumento das Amostras das Classes Minoritárias):**\n",
    "\n",
    "O oversampling é uma técnica que consiste em criar novas amostras para as classes minoritárias, tornando-as mais representativas. Uma das bibliotecas mais utilizadas para implementar o oversampling é o `imbalanced-learn`. Aqui está um exemplo de como aplicar o oversampling usando o SMOTE (Synthetic Minority Over-sampling Technique):"
   ]
  },
  {
   "cell_type": "code",
   "execution_count": 3,
   "id": "7e7e3750",
   "metadata": {},
   "outputs": [],
   "source": [
    "from imblearn.over_sampling import SMOTE\n",
    "from sklearn.datasets import make_classification\n",
    "\n",
    "# Crie um conjunto de dados de exemplo desbalanceado\n",
    "X, y = make_classification(n_classes=2, class_sep=2, weights=[0.1, 0.9], n_informative=3, n_redundant=1, flip_y=0, n_features=20, random_state=42)\n",
    "\n",
    "# Aplique o SMOTE para oversampling\n",
    "smote = SMOTE(sampling_strategy='auto', random_state=42)\n",
    "X_resampled, y_resampled = smote.fit_resample(X, y)"
   ]
  },
  {
   "cell_type": "markdown",
   "id": "b4b45bcb",
   "metadata": {},
   "source": [
    "Neste exemplo, estamos gerando um conjunto de dados desbalanceado com a função `make_classification` e, em seguida, aplicamos o SMOTE para aumentar o número de amostras da classe minoritária.\n",
    "\n",
    "**Undersampling (Redução das Amostras das Classes Majoritárias):**\n",
    "\n",
    "O undersampling é uma técnica que reduz o número de amostras das classes majoritárias para equilibrar o dataset. Vamos usar o `imbalanced-learn` para demonstrar o undersampling:"
   ]
  },
  {
   "cell_type": "code",
   "execution_count": 5,
   "id": "c5ed57ca",
   "metadata": {},
   "outputs": [
    {
     "data": {
      "image/png": "[encoded data removed]",
      "text/plain": [
       "<Figure size 1200x500 with 2 Axes>"
      ]
     },
     "metadata": {},
     "output_type": "display_data"
    }
   ],
   "source": [
    "import matplotlib.pyplot as plt\n",
    "import numpy as np\n",
    "\n",
    "# Calcule a contagem de amostras por classe antes do undersampling\n",
    "classes, counts = np.unique(y, return_counts=True)\n",
    "\n",
    "# Calcule a contagem de amostras por classe após o undersampling\n",
    "resampled_classes, resampled_counts = np.unique(y_resampled, return_counts=True)\n",
    "\n",
    "# Crie gráficos de barras para visualizar as contagens antes e depois do undersampling\n",
    "plt.figure(figsize=(12, 5))\n",
    "\n",
    "plt.subplot(1, 2, 1)\n",
    "plt.bar(classes, counts, tick_label=classes)\n",
    "plt.title('Contagem de Amostras por Classe (Antes do Undersampling)')\n",
    "plt.xlabel('Classe')\n",
    "plt.ylabel('Contagem de Amostras')\n",
    "\n",
    "plt.subplot(1, 2, 2)\n",
    "plt.bar(resampled_classes, resampled_counts, tick_label=resampled_classes)\n",
    "plt.title('Contagem de Amostras por Classe (Após o Undersampling)')\n",
    "plt.xlabel('Classe')\n",
    "plt.ylabel('Contagem de Amostras')\n",
    "\n",
    "plt.tight_layout()\n",
    "plt.show()"
   ]
  },
  {
   "cell_type": "markdown",
   "id": "b4920fb4",
   "metadata": {},
   "source": [
    "Neste exemplo, estamos usando o `RandomUnderSampler` para reduzir o número de amostras da classe majoritária, tornando o conjunto de dados mais equilibrado.\n",
    "\n",
    "Ambas as técnicas, oversampling e undersampling, têm seus lugares em diferentes cenários, e a escolha entre elas depende das características do conjunto de dados e das necessidades do projeto. É importante avaliar o impacto dessas técnicas no desempenho do seu modelo por meio de validação cruzada e métricas de avaliação adequadas."
   ]
  }
 ],
 "metadata": {
  "kernelspec": {
   "display_name": "Python 3 (ipykernel)",
   "language": "python",
   "name": "python3"
  },
  "language_info": {
   "codemirror_mode": {
    "name": "ipython",
    "version": 3
   },
   "file_extension": ".py",
   "mimetype": "text/x-python",
   "name": "python",
   "nbconvert_exporter": "python",
   "pygments_lexer": "ipython3",
   "version": "3.10.6"
  }
 },
 "nbformat": 4,
 "nbformat_minor": 5
}
