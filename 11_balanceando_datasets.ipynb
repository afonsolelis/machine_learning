{
 "cells": [
  {
   "cell_type": "markdown",
   "id": "5f9e6033-3829-47cb-a47a-ff1f2bba0adb",
   "metadata": {},
   "source": [
    "# Balanceando Datasets"
   ]
  },
  {
   "cell_type": "code",
   "execution_count": null,
   "id": "7c55085c-cc32-44d5-801c-9076a2637bc3",
   "metadata": {},
   "outputs": [],
   "source": [
    "# porque balancear?\n",
    "# Oversampling or Undersampling\n",
    "# Synthetic Minority Oversampling TEchnique (SMOTE)"
   ]
  }
 ],
 "metadata": {
  "kernelspec": {
   "display_name": "Python 3 (ipykernel)",
   "language": "python",
   "name": "python3"
  },
  "language_info": {
   "codemirror_mode": {
    "name": "ipython",
    "version": 3
   },
   "file_extension": ".py",
   "mimetype": "text/x-python",
   "name": "python",
   "nbconvert_exporter": "python",
   "pygments_lexer": "ipython3",
   "version": "3.11.5"
  }
 },
 "nbformat": 4,
 "nbformat_minor": 5
}
