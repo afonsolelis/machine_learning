{
 "cells": [
  {
   "cell_type": "markdown",
   "id": "d97041e8-e30e-43c6-a7d7-ce04cde4db90",
   "metadata": {},
   "source": [
    "# Avaliação e Generalização de Modelos de Machine Learning"
   ]
  },
  {
   "cell_type": "markdown",
   "id": "3d830330-ddc6-419b-919c-b1fae425c388",
   "metadata": {},
   "source": [
    "A avaliação do desempenho de um modelo de Machine Learning está diretamente relacionada à sua capacidade de generalização. Generalização é a capacidade do modelo de fazer previsões precisas em dados não vistos anteriormente. Em outras palavras, queremos que nosso modelo aprenda padrões reais nos dados, em vez de simplesmente memorar o conjunto de treinamento."
   ]
  },
  {
   "cell_type": "markdown",
   "id": "d2b37e1e-7743-4908-978b-e2b54e357de9",
   "metadata": {},
   "source": [
    "## O Método de Holdout"
   ]
  },
  {
   "cell_type": "markdown",
   "id": "6c790de9-393c-4f97-be94-414dca781340",
   "metadata": {},
   "source": [
    "Um método comum para avaliar a capacidade de generalização de um modelo é o Método de Holdout. Nesse método, dividimos nosso conjunto de dados em duas partes: um conjunto de treinamento, que geralmente corresponde a cerca de 70% dos dados, e um conjunto de teste, que contém os restantes 30%.\r\n",
    "\r\n",
    "Imagine que temos um conjunto de dados com 9 observaçõe\n",
    "\n",
    "```\n",
    "GrLivArea    SalePrice\r\n",
    "0    1710       208500\r\n",
    "1    1262       181500\r\n",
    "2    1786       223500\r\n",
    "3    1717       140000\r\n",
    "4    2198       2\n",
    "```\n",
    "\n",
    "Podemos realizar essa divisão da seguinte forma:\r\n",
    "\r\n",
    "\n",
    "```s:"
   ]
  },
  {
   "cell_type": "code",
   "execution_count": 4,
   "id": "cb9c4d4b-2ebc-436d-ad09-dd93674838b3",
   "metadata": {},
   "outputs": [
    {
     "name": "stdout",
     "output_type": "stream",
     "text": [
      "Score do modelo: -0.001062352106608655\n"
     ]
    }
   ],
   "source": [
    "import pandas as pd\n",
    "import numpy as np\n",
    "from sklearn.model_selection import train_test_split\n",
    "from sklearn.linear_model import LinearRegression\n",
    "\n",
    "# Criar um DataFrame de exemplo\n",
    "np.random.seed(42)  # Para tornar os resultados reproduzíveis\n",
    "data = {\n",
    "    'GrLivArea': np.random.randint(1000, 3000, size=100),  # Exemplo de área de estar\n",
    "    'SalePrice': np.random.randint(50000, 300000, size=100)  # Exemplo de preço de venda\n",
    "}\n",
    "\n",
    "livecode_data = pd.DataFrame(data)\n",
    "\n",
    "# Dividir os dados em treinamento e teste\n",
    "train_data, test_data = train_test_split(livecode_data, test_size=0.3)\n",
    "\n",
    "# Preparar X e y\n",
    "X_train = train_data[['GrLivArea']]\n",
    "y_train = train_data['SalePrice']\n",
    "\n",
    "X_test = test_data[['GrLivArea']]\n",
    "y_test = test_data['SalePrice']\n",
    "\n",
    "# Instanciar o modelo de regressão linear\n",
    "model = LinearRegression()\n",
    "\n",
    "# Treinar o modelo com os dados de treinamento\n",
    "model.fit(X_train, y_train)\n",
    "\n",
    "# Avaliar o desempenho do modelo nos dados de teste\n",
    "score = model.score(X_test, y_test)\n",
    "\n",
    "print(\"Score do modelo:\", score)\n"
   ]
  },
  {
   "cell_type": "markdown",
   "id": "2e92ac9a-5003-4f22-8275-9159debe207e",
   "metadata": {},
   "source": [
    "Alternativamente, podemos usar o método train_test_split diretamente nos conjuntos X e y:"
   ]
  },
  {
   "cell_type": "code",
   "execution_count": 6,
   "id": "095ec862-1e01-4753-90c7-fcdf9b7f3bc2",
   "metadata": {},
   "outputs": [],
   "source": [
    "# Preparar X e y\n",
    "X = livecode_data[['GrLivArea']]\n",
    "y = livecode_data['SalePrice']\n",
    "\n",
    "# Dividir em treinamento/teste\n",
    "X_train, X_test, y_train, y_test = train_test_split(X, y, test_size=0.3)"
   ]
  },
  {
   "cell_type": "markdown",
   "id": "4cf492df-2e08-4645-8fe8-db4ee62c0305",
   "metadata": {},
   "source": [
    "Uma vez que temos nossos conjuntos de treinamento e teste, podemos prosseguir com o treinamento e avaliação do modelo."
   ]
  },
  {
   "cell_type": "markdown",
   "id": "eb192fa9-0faa-4f4e-abbe-6e8d98219e46",
   "metadata": {},
   "source": [
    "## Treinamento e Avaliação do Modelo"
   ]
  },
  {
   "cell_type": "markdown",
   "id": "cd906344-8275-44d4-8e51-989ee9cdd0fb",
   "metadata": {},
   "source": [
    "Vamos supor que estamos construindo um modelo de regressão linear para prever os preços de venda (SalePrice) com base na área de estar (GrLivArea). O processo de treinamento e avaliação do modelo seria o seguinte:"
   ]
  },
  {
   "cell_type": "code",
   "execution_count": 8,
   "id": "18895aff-1ef4-4f26-ad30-deeeeb45e383",
   "metadata": {},
   "outputs": [
    {
     "data": {
      "text/plain": [
       "-0.0178161028321151"
      ]
     },
     "execution_count": 8,
     "metadata": {},
     "output_type": "execute_result"
    }
   ],
   "source": [
    "# Instanciar o modelo de regressão linear\n",
    "model = LinearRegression()\n",
    "\n",
    "# Treinar o modelo com os dados de treinamento\n",
    "model.fit(X_train, y_train)\n",
    "\n",
    "# Avaliar o desempenho do modelo nos dados de teste\n",
    "score = model.score(X_test, y_test)\n",
    "\n",
    "score"
   ]
  },
  {
   "cell_type": "markdown",
   "id": "c977ef19-8e72-4a8d-8105-d4015809660f",
   "metadata": {},
   "source": [
    "O resultado score nos dá uma medida de quão bem nosso modelo está generalizando. No entanto, o Método de Holdout tem algumas limitações que devemos estar cientes."
   ]
  },
  {
   "cell_type": "markdown",
   "id": "e8a53502-9d9d-4b9f-bf0d-5469212821f3",
   "metadata": {},
   "source": [
    "## Limitações do Método de Holdout"
   ]
  },
  {
   "cell_type": "markdown",
   "id": "351df4f3-0610-4376-a880-ee2a1139a440",
   "metadata": {},
   "source": [
    "**Aleatoriedade na Divisão**\n",
    "\r\n",
    "Uma das limitações é que a divisão dos dados em conjuntos de treinamento e teste é aleatória. Isso significa que diferentes divisões aleatórias podem levar a resultados diferentes. Por exemplo, ao executar o código de divisão várias vezes, podemos obter pontuações ligeiramente diferentes."
   ]
  },
  {
   "cell_type": "code",
   "execution_count": 9,
   "id": "ca91c516-017c-41e8-824a-66635ae91edf",
   "metadata": {},
   "outputs": [],
   "source": [
    "# Dividir em treinamento/teste (executado várias vezes)\n",
    "X_train, X_test, y_train, y_test = train_test_split(X, y, test_size=0.3)"
   ]
  },
  {
   "cell_type": "code",
   "execution_count": 10,
   "id": "8e50492f-77ee-452e-8608-f7fbb4640a63",
   "metadata": {},
   "outputs": [
    {
     "data": {
      "text/html": [
       "<div>\n",
       "<style scoped>\n",
       "    .dataframe tbody tr th:only-of-type {\n",
       "        vertical-align: middle;\n",
       "    }\n",
       "\n",
       "    .dataframe tbody tr th {\n",
       "        vertical-align: top;\n",
       "    }\n",
       "\n",
       "    .dataframe thead th {\n",
       "        text-align: right;\n",
       "    }\n",
       "</style>\n",
       "<table border=\"1\" class=\"dataframe\">\n",
       "  <thead>\n",
       "    <tr style=\"text-align: right;\">\n",
       "      <th></th>\n",
       "      <th>GrLivArea</th>\n",
       "    </tr>\n",
       "  </thead>\n",
       "  <tbody>\n",
       "    <tr>\n",
       "      <th>20</th>\n",
       "      <td>2685</td>\n",
       "    </tr>\n",
       "    <tr>\n",
       "      <th>35</th>\n",
       "      <td>1252</td>\n",
       "    </tr>\n",
       "    <tr>\n",
       "      <th>71</th>\n",
       "      <td>2369</td>\n",
       "    </tr>\n",
       "    <tr>\n",
       "      <th>6</th>\n",
       "      <td>2724</td>\n",
       "    </tr>\n",
       "    <tr>\n",
       "      <th>78</th>\n",
       "      <td>2478</td>\n",
       "    </tr>\n",
       "    <tr>\n",
       "      <th>...</th>\n",
       "      <td>...</td>\n",
       "    </tr>\n",
       "    <tr>\n",
       "      <th>56</th>\n",
       "      <td>2528</td>\n",
       "    </tr>\n",
       "    <tr>\n",
       "      <th>85</th>\n",
       "      <td>2104</td>\n",
       "    </tr>\n",
       "    <tr>\n",
       "      <th>50</th>\n",
       "      <td>1957</td>\n",
       "    </tr>\n",
       "    <tr>\n",
       "      <th>15</th>\n",
       "      <td>2396</td>\n",
       "    </tr>\n",
       "    <tr>\n",
       "      <th>25</th>\n",
       "      <td>2437</td>\n",
       "    </tr>\n",
       "  </tbody>\n",
       "</table>\n",
       "<p>70 rows × 1 columns</p>\n",
       "</div>"
      ],
      "text/plain": [
       "    GrLivArea\n",
       "20       2685\n",
       "35       1252\n",
       "71       2369\n",
       "6        2724\n",
       "78       2478\n",
       "..        ...\n",
       "56       2528\n",
       "85       2104\n",
       "50       1957\n",
       "15       2396\n",
       "25       2437\n",
       "\n",
       "[70 rows x 1 columns]"
      ]
     },
     "execution_count": 10,
     "metadata": {},
     "output_type": "execute_result"
    }
   ],
   "source": [
    "X_train"
   ]
  },
  {
   "cell_type": "code",
   "execution_count": 11,
   "id": "39cb8c40-5825-411b-9448-4fac97fc81a3",
   "metadata": {},
   "outputs": [
    {
     "data": {
      "text/html": [
       "<div>\n",
       "<style scoped>\n",
       "    .dataframe tbody tr th:only-of-type {\n",
       "        vertical-align: middle;\n",
       "    }\n",
       "\n",
       "    .dataframe tbody tr th {\n",
       "        vertical-align: top;\n",
       "    }\n",
       "\n",
       "    .dataframe thead th {\n",
       "        text-align: right;\n",
       "    }\n",
       "</style>\n",
       "<table border=\"1\" class=\"dataframe\">\n",
       "  <thead>\n",
       "    <tr style=\"text-align: right;\">\n",
       "      <th></th>\n",
       "      <th>GrLivArea</th>\n",
       "    </tr>\n",
       "  </thead>\n",
       "  <tbody>\n",
       "    <tr>\n",
       "      <th>27</th>\n",
       "      <td>1385</td>\n",
       "    </tr>\n",
       "    <tr>\n",
       "      <th>13</th>\n",
       "      <td>2482</td>\n",
       "    </tr>\n",
       "    <tr>\n",
       "      <th>5</th>\n",
       "      <td>2095</td>\n",
       "    </tr>\n",
       "    <tr>\n",
       "      <th>29</th>\n",
       "      <td>1955</td>\n",
       "    </tr>\n",
       "    <tr>\n",
       "      <th>21</th>\n",
       "      <td>2332</td>\n",
       "    </tr>\n",
       "    <tr>\n",
       "      <th>19</th>\n",
       "      <td>1130</td>\n",
       "    </tr>\n",
       "    <tr>\n",
       "      <th>83</th>\n",
       "      <td>1034</td>\n",
       "    </tr>\n",
       "    <tr>\n",
       "      <th>14</th>\n",
       "      <td>1087</td>\n",
       "    </tr>\n",
       "    <tr>\n",
       "      <th>26</th>\n",
       "      <td>1805</td>\n",
       "    </tr>\n",
       "    <tr>\n",
       "      <th>90</th>\n",
       "      <td>2025</td>\n",
       "    </tr>\n",
       "    <tr>\n",
       "      <th>52</th>\n",
       "      <td>2899</td>\n",
       "    </tr>\n",
       "    <tr>\n",
       "      <th>64</th>\n",
       "      <td>2297</td>\n",
       "    </tr>\n",
       "    <tr>\n",
       "      <th>54</th>\n",
       "      <td>2267</td>\n",
       "    </tr>\n",
       "    <tr>\n",
       "      <th>44</th>\n",
       "      <td>1699</td>\n",
       "    </tr>\n",
       "    <tr>\n",
       "      <th>62</th>\n",
       "      <td>1840</td>\n",
       "    </tr>\n",
       "    <tr>\n",
       "      <th>70</th>\n",
       "      <td>1776</td>\n",
       "    </tr>\n",
       "    <tr>\n",
       "      <th>87</th>\n",
       "      <td>2585</td>\n",
       "    </tr>\n",
       "    <tr>\n",
       "      <th>41</th>\n",
       "      <td>1510</td>\n",
       "    </tr>\n",
       "    <tr>\n",
       "      <th>55</th>\n",
       "      <td>1831</td>\n",
       "    </tr>\n",
       "    <tr>\n",
       "      <th>8</th>\n",
       "      <td>2638</td>\n",
       "    </tr>\n",
       "    <tr>\n",
       "      <th>4</th>\n",
       "      <td>2130</td>\n",
       "    </tr>\n",
       "    <tr>\n",
       "      <th>74</th>\n",
       "      <td>2363</td>\n",
       "    </tr>\n",
       "    <tr>\n",
       "      <th>67</th>\n",
       "      <td>1315</td>\n",
       "    </tr>\n",
       "    <tr>\n",
       "      <th>45</th>\n",
       "      <td>1975</td>\n",
       "    </tr>\n",
       "    <tr>\n",
       "      <th>24</th>\n",
       "      <td>2515</td>\n",
       "    </tr>\n",
       "    <tr>\n",
       "      <th>53</th>\n",
       "      <td>2590</td>\n",
       "    </tr>\n",
       "    <tr>\n",
       "      <th>66</th>\n",
       "      <td>1600</td>\n",
       "    </tr>\n",
       "    <tr>\n",
       "      <th>10</th>\n",
       "      <td>1466</td>\n",
       "    </tr>\n",
       "    <tr>\n",
       "      <th>96</th>\n",
       "      <td>2845</td>\n",
       "    </tr>\n",
       "    <tr>\n",
       "      <th>17</th>\n",
       "      <td>1871</td>\n",
       "    </tr>\n",
       "  </tbody>\n",
       "</table>\n",
       "</div>"
      ],
      "text/plain": [
       "    GrLivArea\n",
       "27       1385\n",
       "13       2482\n",
       "5        2095\n",
       "29       1955\n",
       "21       2332\n",
       "19       1130\n",
       "83       1034\n",
       "14       1087\n",
       "26       1805\n",
       "90       2025\n",
       "52       2899\n",
       "64       2297\n",
       "54       2267\n",
       "44       1699\n",
       "62       1840\n",
       "70       1776\n",
       "87       2585\n",
       "41       1510\n",
       "55       1831\n",
       "8        2638\n",
       "4        2130\n",
       "74       2363\n",
       "67       1315\n",
       "45       1975\n",
       "24       2515\n",
       "53       2590\n",
       "66       1600\n",
       "10       1466\n",
       "96       2845\n",
       "17       1871"
      ]
     },
     "execution_count": 11,
     "metadata": {},
     "output_type": "execute_result"
    }
   ],
   "source": [
    "X_test"
   ]
  },
  {
   "cell_type": "markdown",
   "id": "e3db13f7-553a-4089-bdd3-62f6fedae092",
   "metadata": {},
   "source": [
    "**Perda de Informação**\n",
    "\r\n",
    "Outra limitação é que os dados no conjunto de teste não são usados para treinar o modelo. Isso pode ser um problema se você tiver um conjunto de dados pequeno, pois a perda de dados de treinamento pode ser significativa."
   ]
  },
  {
   "cell_type": "markdown",
   "id": "71b70ca6-b217-4c18-922d-c8e87192616d",
   "metadata": {},
   "source": [
    "## Como Resolver Essas Limitações"
   ]
  },
  {
   "cell_type": "markdown",
   "id": "22ae0dae-57d1-4ca0-a926-758e6c99c07d",
   "metadata": {},
   "source": [
    "Uma maneira de lidar com a aleatoriedade na divisão dos dados é calcular a média das pontuações de várias divisões de holdout. Isso pode fornecer uma estimativa mais estável do desempenho do modelo.\r\n",
    "\r\n",
    "No entanto, uma abordagem ainda melhor é usar a validação cruzada K-Fold."
   ]
  },
  {
   "cell_type": "markdown",
   "id": "8e46b9f9-0b51-4bde-aa96-75ffac9957c9",
   "metadata": {},
   "source": [
    "## Validação Cruzada K-Fold"
   ]
  },
  {
   "cell_type": "markdown",
   "id": "57366217-221d-4d20-be6c-b9cbcb529887",
   "metadata": {},
   "source": [
    "Na validação cruzada K-Fold, o conjunto de dados é dividido em K partes (ou \"dobras\"). O modelo é treinado e avaliado K vezes, cada vez usando uma dobra diferente como conjunto de teste e as outras dobras como conjunto de treinamento. A pontuação média das K iterações é usada como a métrica final de desempenho do modelo.\r\n",
    "\r\n",
    "Por exemplo, podemos realizar uma validação cruzada K-Fold com um modelo de regressão linear da seguinte forma:"
   ]
  },
  {
   "cell_type": "code",
   "execution_count": 12,
   "id": "0f1dfb7a-7dc1-423c-8acd-0b6a4d39947d",
   "metadata": {},
   "outputs": [],
   "source": [
    "from sklearn.model_selection import cross_validate\n",
    "\n",
    "# Instanciar o modelo\n",
    "model = LinearRegression()\n",
    "\n",
    "# Realizar validação cruzada com K=5\n",
    "cv_results = cross_validate(model, X, y, cv=5)\n",
    "\n",
    "# Pontuações de teste para cada dobra\n",
    "cv_scores = cv_results['test_score']\n",
    "\n",
    "# Média das pontuações de teste\n",
    "mean_score = cv_scores.mean()"
   ]
  },
  {
   "cell_type": "code",
   "execution_count": 13,
   "id": "24359e37-bee8-41a1-a180-68501d2eb644",
   "metadata": {},
   "outputs": [
    {
     "data": {
      "text/plain": [
       "-0.16979642469222123"
      ]
     },
     "execution_count": 13,
     "metadata": {},
     "output_type": "execute_result"
    }
   ],
   "source": [
    "mean_score"
   ]
  },
  {
   "cell_type": "markdown",
   "id": "67641065-0696-4163-8cdc-276fb9ff624b",
   "metadata": {},
   "source": [
    "A escolha de K é um equilíbrio entre uma avaliação de desempenho confiável e o custo computacional. Normalmente, valores comuns de K são 5 ou 10."
   ]
  },
  {
   "cell_type": "markdown",
   "id": "0b454759-3aca-4673-addf-728407faf9dd",
   "metadata": {},
   "source": [
    "### Em um código mais completo, k-fold"
   ]
  },
  {
   "cell_type": "code",
   "execution_count": 15,
   "id": "872c66d1-4aaf-4c4e-b19f-9aa8ecdf85fe",
   "metadata": {},
   "outputs": [
    {
     "name": "stderr",
     "output_type": "stream",
     "text": [
      "/opt/conda/lib/python3.11/site-packages/sklearn/linear_model/_logistic.py:460: ConvergenceWarning: lbfgs failed to converge (status=1):\n",
      "STOP: TOTAL NO. of ITERATIONS REACHED LIMIT.\n",
      "\n",
      "Increase the number of iterations (max_iter) or scale the data as shown in:\n",
      "    https://scikit-learn.org/stable/modules/preprocessing.html\n",
      "Please also refer to the documentation for alternative solver options:\n",
      "    https://scikit-learn.org/stable/modules/linear_model.html#logistic-regression\n",
      "  n_iter_i = _check_optimize_result(\n",
      "/opt/conda/lib/python3.11/site-packages/sklearn/linear_model/_logistic.py:460: ConvergenceWarning: lbfgs failed to converge (status=1):\n",
      "STOP: TOTAL NO. of ITERATIONS REACHED LIMIT.\n",
      "\n",
      "Increase the number of iterations (max_iter) or scale the data as shown in:\n",
      "    https://scikit-learn.org/stable/modules/preprocessing.html\n",
      "Please also refer to the documentation for alternative solver options:\n",
      "    https://scikit-learn.org/stable/modules/linear_model.html#logistic-regression\n",
      "  n_iter_i = _check_optimize_result(\n"
     ]
    },
    {
     "data": {
      "image/png": "[encoded data removed]",
      "text/plain": [
       "<Figure size 1000x400 with 2 Axes>"
      ]
     },
     "metadata": {},
     "output_type": "display_data"
    }
   ],
   "source": [
    "import numpy as np\n",
    "import matplotlib.pyplot as plt\n",
    "from sklearn.datasets import load_iris\n",
    "from sklearn.model_selection import KFold\n",
    "from sklearn.linear_model import LogisticRegression\n",
    "\n",
    "# Carregar o conjunto de dados de exemplo (Iris)\n",
    "iris = load_iris()\n",
    "X, y = iris.data, iris.target\n",
    "\n",
    "# Número de dobras (K)\n",
    "n_splits = 5\n",
    "\n",
    "# Instanciar o modelo (usaremos uma regressão logística como exemplo)\n",
    "model = LogisticRegression()\n",
    "\n",
    "# Inicializar a validação cruzada K-Fold\n",
    "kf = KFold(n_splits=n_splits, shuffle=True, random_state=42)\n",
    "\n",
    "# Listas para armazenar as pontuações (métricas de desempenho) de cada dobra\n",
    "train_scores = []\n",
    "test_scores = []\n",
    "\n",
    "# Loop sobre as dobras\n",
    "for train_index, test_index in kf.split(X):\n",
    "    X_train, X_test = X[train_index], X[test_index]\n",
    "    y_train, y_test = y[train_index], y[test_index]\n",
    "    \n",
    "    # Treinar o modelo na dobra de treinamento\n",
    "    model.fit(X_train, y_train)\n",
    "    \n",
    "    # Avaliar o modelo na dobra de treinamento\n",
    "    train_score = model.score(X_train, y_train)\n",
    "    \n",
    "    # Avaliar o modelo na dobra de teste\n",
    "    test_score = model.score(X_test, y_test)\n",
    "    \n",
    "    train_scores.append(train_score)\n",
    "    test_scores.append(test_score)\n",
    "\n",
    "# Calcular a média das pontuações de treinamento e teste\n",
    "mean_train_score = np.mean(train_scores)\n",
    "mean_test_score = np.mean(test_scores)\n",
    "\n",
    "# Plotar as pontuações\n",
    "plt.figure(figsize=(10, 4))\n",
    "plt.subplot(121)\n",
    "plt.plot(range(1, n_splits + 1), train_scores, marker='o', label='Treinamento')\n",
    "plt.plot(range(1, n_splits + 1), test_scores, marker='o', label='Teste')\n",
    "plt.xlabel('Dobra')\n",
    "plt.ylabel('Pontuação')\n",
    "plt.title('Pontuações de Treinamento e Teste por Dobra')\n",
    "plt.legend()\n",
    "\n",
    "# Plotar as médias\n",
    "plt.subplot(122)\n",
    "plt.bar(['Treinamento', 'Teste'], [mean_train_score, mean_test_score])\n",
    "plt.ylabel('Média das Pontuações')\n",
    "plt.title('Média das Pontuações de Treinamento e Teste')\n",
    "\n",
    "plt.tight_layout()\n",
    "plt.show()"
   ]
  },
  {
   "cell_type": "markdown",
   "id": "cea3d336-fabc-4bb8-b378-c40bde655c39",
   "metadata": {},
   "source": [
    "Neste exemplo, estamos usando o conjunto de dados Iris e uma regressão logística como modelo. Aqui está o que está acontecendo:\r\n",
    "\r\n",
    "1. Carregamos o conjunto de dados Iris.\r\n",
    "2. Definimos o número de dobras (n_splits) para a validação cruzada.\r\n",
    "3. Inicializamos a validação cruzada K-Fold usando `KFold`.\r\n",
    "4. Loop sobre as dobras:\r\n",
    "    * Dividimos os dados em conjuntos de treinamento e teste para cada dobra.\r\n",
    "    * Treinamos o modelo na dobra de treinamento.\r\n",
    "    * Avaliamos o modelo nas dobras de treinamento e teste, registrando as pontuações.\r\n",
    "5. Calculamos a média das pontuações de treinamento e teste.\r\n",
    "6. Plotamos as pontuações para cada dobra (gráfico à esquerda) e as médias das pontuações (gráfico à direita).\r\n",
    "\r\n",
    "Os gráficos mostram como as pontuações de treinamento e teste variam em cada dobra e como as médias das pontuações se comparam. Isso nos dá uma ideia de como o modelo está se saindo em diferentes partições dos dados e ajuda a avaliar seu desempenho geral."
   ]
  },
  {
   "cell_type": "markdown",
   "id": "5e1e72ee-0ec1-45e4-bd91-164d44450a2a",
   "metadata": {},
   "source": [
    "## Compromisso entre Viés e Variância"
   ]
  },
  {
   "cell_type": "markdown",
   "id": "e169bf20-9f40-4fad-b479-3de3d3fd504e",
   "metadata": {},
   "source": [
    "Um conceito importante a ser compreendido ao avaliar modelos é o compromisso entre viés e variância.\r\n",
    "- \r\n",
    "Viés (Underfitting): Refere-se à incapacidade do modelo de aprender os padrões nos dados. O modelo é muito simplificado para representar adequadamente os dados.- \r\n",
    "\r\n",
    "Variância (Overfitting): Refere-se ao modelo que se ajusta demais aos dados de treinamento, incluindo o ruído nos dados, resultando em um modelo que não generaliza bem para dados não vistos.\r\n",
    "\r\n",
    "Encontrar o equilíbrio certo entre viés e variância é fundamental para criar modelos que funcionem bem em dados de teste não vistos."
   ]
  },
  {
   "cell_type": "markdown",
   "id": "1e372318-cf4a-4864-bf20-f28dd84cd4d3",
   "metadata": {},
   "source": [
    "## Teorema \"No Free Lunch\""
   ]
  },
  {
   "cell_type": "markdown",
   "id": "7bfa18c8-5623-40a7-861d-7b2e9da6f279",
   "metadata": {},
   "source": [
    "Não existe um modelo universal que funcione melhor para todos os tipos de dados. Isso é conhecido como o Teorema \"No Free Lunch\". Como cientistas de dados, é nossa responsabilidade fazer suposições sobre os dados e escolher modelos razoáveis de acordo com essas suposições."
   ]
  },
  {
   "cell_type": "markdown",
   "id": "911e6a62-8c4e-456c-8dda-5edba50f7479",
   "metadata": {},
   "source": [
    "## Curvas de Aprendizado"
   ]
  },
  {
   "cell_type": "markdown",
   "id": "3ff93407-d211-43bf-8ae4-547eda7dc239",
   "metadata": {},
   "source": [
    "As curvas de aprendizado são uma ferramenta poderosa para diagnosticar três aspectos do comportamento de um modelo nos dados:\r\n",
    "\r\n",
    "1. **Underfitting (Viés Elevado):** Ocorre quando o modelo é muito simples e não é capaz de aprender os padrões nos dados de treinamento. Isso geralmente é refletido em pontuações baixas tanto nos dados de treinamento quanto nos de teste.\r\n",
    "    \r\n",
    "2. **Overfitting (Variância Elevada):** Ocorre quando o modelo é muito complexo e se ajusta demais aos dados de treinamento, incluindo o ruído nos dados. Isso é indicado por um desempenho muito bom nos dados de treinamento, mas um desempenho significativamente pior nos dados de teste.\r\n",
    "    \r\n",
    "3. **Avaliação da Suficiência dos Dados:** As curvas de aprendizado também nos ajudam a entender se o modelo tem dados suficientes para aprender os padrões dos dados. À medida que aumentamos o tamanho do conjunto de treinamento, as curvas de aprendizado nos mostram como o desempenho do modelo muda."
   ]
  },
  {
   "cell_type": "markdown",
   "id": "57e894d7-6dfd-44be-8694-477afcb4493c",
   "metadata": {},
   "source": [
    "### Plotagem das Curvas de Aprendizado\r\n",
    "\r\n",
    "Vamos mostrar como plotar as curvas de aprendizado usando Python e Matplotlib com base no exemplo anterior. Para isso, usaremos a função `learning_curve` da biblioteca Scikit-Learn. Continuando a partir do exemplo anterior:"
   ]
  },
  {
   "cell_type": "code",
   "execution_count": 16,
   "id": "70219511-5890-4ae8-af11-00230e25be5e",
   "metadata": {},
   "outputs": [
    {
     "name": "stderr",
     "output_type": "stream",
     "text": [
      "/opt/conda/lib/python3.11/site-packages/sklearn/linear_model/_logistic.py:460: ConvergenceWarning: lbfgs failed to converge (status=1):\n",
      "STOP: TOTAL NO. of ITERATIONS REACHED LIMIT.\n",
      "\n",
      "Increase the number of iterations (max_iter) or scale the data as shown in:\n",
      "    https://scikit-learn.org/stable/modules/preprocessing.html\n",
      "Please also refer to the documentation for alternative solver options:\n",
      "    https://scikit-learn.org/stable/modules/linear_model.html#logistic-regression\n",
      "  n_iter_i = _check_optimize_result(\n",
      "/opt/conda/lib/python3.11/site-packages/sklearn/linear_model/_logistic.py:460: ConvergenceWarning: lbfgs failed to converge (status=1):\n",
      "STOP: TOTAL NO. of ITERATIONS REACHED LIMIT.\n",
      "\n",
      "Increase the number of iterations (max_iter) or scale the data as shown in:\n",
      "    https://scikit-learn.org/stable/modules/preprocessing.html\n",
      "Please also refer to the documentation for alternative solver options:\n",
      "    https://scikit-learn.org/stable/modules/linear_model.html#logistic-regression\n",
      "  n_iter_i = _check_optimize_result(\n"
     ]
    },
    {
     "data": {
      "image/png": "[encoded data removed]",
      "text/plain": [
       "<Figure size 1200x600 with 1 Axes>"
      ]
     },
     "metadata": {},
     "output_type": "display_data"
    }
   ],
   "source": [
    "import numpy as np\n",
    "import matplotlib.pyplot as plt\n",
    "from sklearn.datasets import load_iris\n",
    "from sklearn.model_selection import learning_curve\n",
    "from sklearn.linear_model import LogisticRegression\n",
    "\n",
    "# ... Código anterior ...\n",
    "\n",
    "# Lista de tamanhos de conjunto de treinamento\n",
    "train_sizes = [10, 20, 30, 40, 50, 60, 70, 80, 90]\n",
    "\n",
    "# Calcular as curvas de aprendizado\n",
    "train_sizes, train_scores, test_scores = learning_curve(\n",
    "    estimator=model, X=X, y=y, train_sizes=train_sizes, cv=kf)\n",
    "\n",
    "# Calcular as médias das pontuações em cada tamanho de conjunto de treinamento\n",
    "train_scores_mean = np.mean(train_scores, axis=1)\n",
    "test_scores_mean = np.mean(test_scores, axis=1)\n",
    "\n",
    "# Plotar as curvas de aprendizado\n",
    "plt.figure(figsize=(12, 6))\n",
    "plt.plot(train_sizes, train_scores_mean, label='Treinamento')\n",
    "plt.plot(train_sizes, test_scores_mean, label='Teste')\n",
    "plt.xlabel('Tamanho do Conjunto de Treinamento')\n",
    "plt.ylabel('Pontuação Média')\n",
    "plt.title('Curvas de Aprendizado')\n",
    "plt.legend()\n",
    "plt.grid()\n",
    "\n",
    "plt.show()"
   ]
  },
  {
   "cell_type": "markdown",
   "id": "ae2db10c-2254-4b03-8076-f4a6c7419388",
   "metadata": {},
   "source": [
    "Neste código, definimos uma lista de tamanhos de conjunto de treinamento `train_sizes` que representam quantos exemplos são usados no treinamento do modelo. Em seguida, usamos a função `learning_curve` para calcular as pontuações de treinamento e teste para cada tamanho de conjunto de treinamento.\r\n",
    "\r\n",
    "Finalmente, plotamos as curvas de aprendizado, mostrando como as pontuações médias de treinamento e teste variam com o tamanho do conjunto de treinamento. Essas curvas nos ajudam a visualizar se o modelo está sofrendo de underfitting ou overfitting e se há benefícios em aumentar o tamanho do conjunto de treinamento.\r\n",
    "\r\n",
    "A interpretação das curvas de aprendizado pode nos orientar na melhoria do desempenho do modelo, seja por meio de ajustes no modelo, coleta de mais dados ou seleção de melhores recursos."
   ]
  }
 ],
 "metadata": {
  "kernelspec": {
   "display_name": "Python 3 (ipykernel)",
   "language": "python",
   "name": "python3"
  },
  "language_info": {
   "codemirror_mode": {
    "name": "ipython",
    "version": 3
   },
   "file_extension": ".py",
   "mimetype": "text/x-python",
   "name": "python",
   "nbconvert_exporter": "python",
   "pygments_lexer": "ipython3",
   "version": "3.11.5"
  }
 },
 "nbformat": 4,
 "nbformat_minor": 5
}
