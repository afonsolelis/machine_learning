{
 "cells": [
  {
   "cell_type": "markdown",
   "id": "dcbfb538-53de-43c0-8e99-dd889ffc52f2",
   "metadata": {},
   "source": [
    "# Enconding, Discretização e Criação de Features"
   ]
  },
  {
   "cell_type": "code",
   "execution_count": 1,
   "id": "86a0b30e-8543-447a-b5c5-b37b28fed846",
   "metadata": {},
   "outputs": [],
   "source": [
    "# porque enconding?\n",
    "# Feature Encoding with OrdinalEncoder"
   ]
  },
  {
   "cell_type": "code",
   "execution_count": 2,
   "id": "3b48a804-9d1c-4d7b-89e5-599d228ab4b5",
   "metadata": {},
   "outputs": [],
   "source": [
    "# Feature Encoding with OneHotEncoder"
   ]
  },
  {
   "cell_type": "code",
   "execution_count": 3,
   "id": "803f9d48-3c5c-4ca3-ac46-21b5e3fceecd",
   "metadata": {},
   "outputs": [],
   "source": [
    "#LabelEncoder"
   ]
  },
  {
   "cell_type": "code",
   "execution_count": 5,
   "id": "5425befe-e177-40ce-a40e-45ad1124ec3b",
   "metadata": {},
   "outputs": [],
   "source": [
    "# Discretizing"
   ]
  },
  {
   "cell_type": "code",
   "execution_count": 6,
   "id": "fb3a2b49-7337-4775-b0c8-bb5d7dd2313f",
   "metadata": {},
   "outputs": [],
   "source": [
    "# Feature creation"
   ]
  },
  {
   "cell_type": "code",
   "execution_count": 7,
   "id": "f272c8f2-e769-4c4f-bfb5-22dbe87080c7",
   "metadata": {},
   "outputs": [],
   "source": [
    "# Feature selection, Modelling and Feature Permutation"
   ]
  },
  {
   "cell_type": "code",
   "execution_count": 9,
   "id": "2e373157-2f57-4ca2-b9ac-e0a8f0a1c556",
   "metadata": {},
   "outputs": [
    {
     "ename": "SyntaxError",
     "evalue": "invalid character '→' (U+2192) (937838684.py, line 2)",
     "output_type": "error",
     "traceback": [
      "\u001b[0;36m  Cell \u001b[0;32mIn[9], line 2\u001b[0;36m\u001b[0m\n\u001b[0;31m    →\u001b[0m\n\u001b[0m    ^\u001b[0m\n\u001b[0;31mSyntaxError\u001b[0m\u001b[0;31m:\u001b[0m invalid character '→' (U+2192)\n"
     ]
    }
   ],
   "source": [
    "# Why feature selection?Garbage in  \n",
    "→\n",
    "  garbage out\n",
    "\n",
    "The curse of dimensionality"
   ]
  },
  {
   "cell_type": "code",
   "execution_count": null,
   "id": "db78e94c-7ddf-466c-81cc-11b55a4770b5",
   "metadata": {},
   "outputs": [],
   "source": [
    "Feature correlation"
   ]
  },
  {
   "cell_type": "code",
   "execution_count": null,
   "id": "bdd5c195-5de7-4a53-b7a5-812005570c77",
   "metadata": {},
   "outputs": [],
   "source": [
    "Modelling "
   ]
  },
  {
   "cell_type": "code",
   "execution_count": null,
   "id": "e33f75a8-8eec-426d-a73b-42338e777c66",
   "metadata": {},
   "outputs": [],
   "source": [
    "Feature Permutation"
   ]
  },
  {
   "cell_type": "code",
   "execution_count": null,
   "id": "61b75d73-7841-456e-85a0-2a716e054d24",
   "metadata": {},
   "outputs": [],
   "source": [
    "Reducing Complexity\n",
    "A few words about complexity:\n",
    "A complex model (in terms of features and/or algorithms) is not always the best solution\n",
    "Trust the 20/80 Pareto Law\n",
    "Reducing the number of features makes the model:\n",
    "More interpretable\n",
    "Faster to train\n",
    "Easier to implement and maintain in production"
   ]
  }
 ],
 "metadata": {
  "kernelspec": {
   "display_name": "Python 3 (ipykernel)",
   "language": "python",
   "name": "python3"
  },
  "language_info": {
   "codemirror_mode": {
    "name": "ipython",
    "version": 3
   },
   "file_extension": ".py",
   "mimetype": "text/x-python",
   "name": "python",
   "nbconvert_exporter": "python",
   "pygments_lexer": "ipython3",
   "version": "3.11.5"
  }
 },
 "nbformat": 4,
 "nbformat_minor": 5
}
