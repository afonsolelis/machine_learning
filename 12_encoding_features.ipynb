{
 "cells": [
  {
   "cell_type": "markdown",
   "id": "dcbfb538-53de-43c0-8e99-dd889ffc52f2",
   "metadata": {},
   "source": [
    "# Enconding, Discretização e Criação de Features"
   ]
  },
  {
   "cell_type": "markdown",
   "id": "f0a1b1bf",
   "metadata": {},
   "source": [
    "Encoding, ou codificação, é um processo fundamental no processamento de dados e em muitos aspectos do machine learning. Ele se refere à conversão de dados de um formato original para um formato adequado para análise, processamento ou modelagem. O encoding desempenha um papel crucial em várias etapas do ciclo de vida de um projeto de machine learning, e a sua compreensão é essencial para garantir que os dados sejam usados de maneira eficaz e precisa. Vamos explorar por que o encoding é tão importante:\n",
    "\n",
    "**1. Representação de Dados Categóricos:**\n",
    "\n",
    "Em muitos conjuntos de dados do mundo real, os atributos podem ser categóricos, o que significa que eles representam categorias ou classes em vez de valores numéricos contínuos. Por exemplo, cores, estados civis, tipos de veículos, etc., são todos exemplos de atributos categóricos. No entanto, a maioria dos algoritmos de machine learning trabalha com números e não com categorias. Portanto, é necessário codificar esses atributos categóricos em números.\n",
    "\n",
    "**2. Compatibilidade com Algoritmos:**\n",
    "\n",
    "A maioria dos algoritmos de machine learning, como regressão linear, árvores de decisão, SVM e redes neurais, opera em dados numéricos. Portanto, ao usar dados categóricos diretamente, o modelo pode não funcionar corretamente ou pode produzir resultados imprecisos. O encoding permite que você converta esses dados em um formato que possa ser processado pelos algoritmos.\n",
    "\n",
    "**3. Melhoria da Eficiência Computacional:**\n",
    "\n",
    "Em alguns casos, a codificação pode ajudar a melhorar a eficiência computacional. Dados categóricos codificados em números podem ser mais eficientemente processados por hardware e software otimizados para cálculos numéricos.\n",
    "\n",
    "**4. Tratamento de Valores Ausentes:**\n",
    "\n",
    "O encoding pode ser usado para lidar com valores ausentes em dados categóricos. Atribuir um valor específico para representar valores ausentes pode ser mais eficaz do que simplesmente remover as linhas ou colunas com valores ausentes.\n",
    "\n",
    "**5. Garantia de Consistência:**\n",
    "\n",
    "O encoding também garante que os dados sigam uma representação consistente. Isso é importante ao lidar com conjuntos de dados de diferentes fontes ou ao preparar dados para treinamento e teste, onde é essencial que as mesmas categorias sejam codificadas da mesma maneira em todos os conjuntos.\n",
    "\n",
    "**Métodos de Encoding Comuns:**\n",
    "\n",
    "Existem vários métodos comuns de encoding, incluindo:\n",
    "\n",
    "* **One-Hot Encoding:** Converte atributos categóricos em vetores binários, onde cada categoria se torna uma coluna binária.\n",
    "* **Label Encoding:** Atribui um número inteiro único a cada categoria.\n",
    "* **Binary Encoding:** Converte números inteiros em binários e cria colunas separadas para os bits.\n",
    "* **Target Encoding (Mean Encoding):** Substitui as categorias por suas médias de destino (útil para problemas de classificação)."
   ]
  },
  {
   "cell_type": "markdown",
   "id": "c999792d",
   "metadata": {},
   "source": [
    "O `OrdinalEncoder` é uma técnica de encoding que é usada para codificar atributos categóricos ordinais, ou seja, aqueles que têm uma ordem específica. Por exemplo, níveis de escolaridade (primário, secundário, superior) ou tamanhos de roupas (P, M, G) são atributos ordinais. Vou criar um exemplo de como usar o `OrdinalEncoder` para codificar um atributo categórico ordinal em Python.\n",
    "\n",
    "Certifique-se de ter a biblioteca `scikit-learn` instalada (pode ser instalada com `pip install scikit-learn`)."
   ]
  },
  {
   "cell_type": "code",
   "execution_count": 1,
   "id": "86a0b30e-8543-447a-b5c5-b37b28fed846",
   "metadata": {},
   "outputs": [
    {
     "name": "stdout",
     "output_type": "stream",
     "text": [
      "Dados Originais:\n",
      "[['P']\n",
      " ['M']\n",
      " ['G']\n",
      " ['P']\n",
      " ['M']\n",
      " ['G']]\n",
      "\n",
      "Dados Codificados:\n",
      "[[0.]\n",
      " [1.]\n",
      " [2.]\n",
      " [0.]\n",
      " [1.]\n",
      " [2.]]\n"
     ]
    }
   ],
   "source": [
    "import numpy as np\n",
    "from sklearn.preprocessing import OrdinalEncoder\n",
    "\n",
    "# Suponhamos que temos um conjunto de dados com o atributo categórico ordinal 'tamanho'\n",
    "dados = np.array([['P'],\n",
    "                  ['M'],\n",
    "                  ['G'],\n",
    "                  ['P'],\n",
    "                  ['M'],\n",
    "                  ['G']])\n",
    "\n",
    "# Criar uma instância do OrdinalEncoder\n",
    "encoder = OrdinalEncoder(categories=[['P', 'M', 'G']])\n",
    "\n",
    "# Ajustar o encoder aos dados e transformar o atributo 'tamanho'\n",
    "dados_codificados = encoder.fit_transform(dados)\n",
    "\n",
    "# Visualizar os dados codificados\n",
    "print(\"Dados Originais:\")\n",
    "print(dados)\n",
    "\n",
    "print(\"\\nDados Codificados:\")\n",
    "print(dados_codificados)"
   ]
  },
  {
   "cell_type": "markdown",
   "id": "e9793533",
   "metadata": {},
   "source": [
    "Neste exemplo, estamos codificando o atributo 'tamanho', que tem três categorias ordinais: 'P' (Pequeno), 'M' (Médio) e 'G' (Grande). Criamos uma instância do `OrdinalEncoder` e, em seguida, usamos o método `fit_transform` para ajustar o encoder aos dados e transformar o atributo 'tamanho' em valores numéricos. O resultado mostra a representação numérica correspondente às categorias originais.\n",
    "\n",
    "Lembre-se de que o `OrdinalEncoder` considera a ordem das categorias. Portanto, ao aplicá-lo, é importante garantir que a ordem esteja correta e que as categorias sejam atribuídas de acordo com a ordem ordinal adequada ao problema."
   ]
  },
  {
   "cell_type": "markdown",
   "id": "75a662d3",
   "metadata": {},
   "source": [
    "## OneHotEncoding"
   ]
  },
  {
   "cell_type": "markdown",
   "id": "f44bb5bb",
   "metadata": {},
   "source": [
    "O `OneHotEncoder` é usado para codificar atributos categóricos não ordinais, transformando-os em uma representação binária (0s e 1s). Vou criar um exemplo de como usar o `OneHotEncoder` para codificar um atributo categórico não ordinal em Python.\n",
    "\n",
    "Certifique-se de ter a biblioteca `scikit-learn` instalada (pode ser instalada com `pip install scikit-learn`)."
   ]
  },
  {
   "cell_type": "code",
   "execution_count": 2,
   "id": "3b48a804-9d1c-4d7b-89e5-599d228ab4b5",
   "metadata": {},
   "outputs": [
    {
     "name": "stdout",
     "output_type": "stream",
     "text": [
      "Dados Originais:\n",
      "[['vermelho']\n",
      " ['verde']\n",
      " ['azul']\n",
      " ['vermelho']\n",
      " ['verde']\n",
      " ['azul']]\n",
      "\n",
      "Dados Codificados:\n",
      "[[0. 0. 1.]\n",
      " [0. 1. 0.]\n",
      " [1. 0. 0.]\n",
      " [0. 0. 1.]\n",
      " [0. 1. 0.]\n",
      " [1. 0. 0.]]\n"
     ]
    },
    {
     "name": "stderr",
     "output_type": "stream",
     "text": [
      "/home/afonsolelis/.local/lib/python3.10/site-packages/sklearn/preprocessing/_encoders.py:972: FutureWarning: `sparse` was renamed to `sparse_output` in version 1.2 and will be removed in 1.4. `sparse_output` is ignored unless you leave `sparse` to its default value.\n",
      "  warnings.warn(\n"
     ]
    }
   ],
   "source": [
    "import numpy as np\n",
    "from sklearn.preprocessing import OneHotEncoder\n",
    "\n",
    "# Suponhamos que temos um conjunto de dados com o atributo categórico 'cor'\n",
    "dados = np.array([['vermelho'],\n",
    "                  ['verde'],\n",
    "                  ['azul'],\n",
    "                  ['vermelho'],\n",
    "                  ['verde'],\n",
    "                  ['azul']])\n",
    "\n",
    "# Criar uma instância do OneHotEncoder\n",
    "encoder = OneHotEncoder(sparse=False)  # Usamos sparse=False para obter uma matriz densa\n",
    "\n",
    "# Ajustar o encoder aos dados e transformar o atributo 'cor'\n",
    "dados_codificados = encoder.fit_transform(dados)\n",
    "\n",
    "# Visualizar os dados codificados\n",
    "print(\"Dados Originais:\")\n",
    "print(dados)\n",
    "\n",
    "print(\"\\nDados Codificados:\")\n",
    "print(dados_codificados)"
   ]
  },
  {
   "cell_type": "markdown",
   "id": "65de0739",
   "metadata": {},
   "source": [
    "Neste exemplo, estamos codificando o atributo 'cor', que tem três categorias não ordinais: 'vermelho', 'verde' e 'azul'. Criamos uma instância do `OneHotEncoder` com `sparse=False` para obter uma matriz densa como resultado. Em seguida, usamos o método `fit_transform` para ajustar o encoder aos dados e transformar o atributo 'cor' em uma representação binária. O resultado mostra a representação one-hot correspondente às categorias originais.\n",
    "\n",
    "Cada categoria se torna uma coluna binária separada, e o valor 1 é atribuído à categoria presente em cada linha, enquanto todas as outras colunas recebem o valor 0. Isso cria uma representação adequada para algoritmos de machine learning que trabalham com dados numéricos."
   ]
  },
  {
   "cell_type": "markdown",
   "id": "3d95d6f4",
   "metadata": {},
   "source": [
    "## Label Encoder"
   ]
  },
  {
   "cell_type": "markdown",
   "id": "6a289f94",
   "metadata": {},
   "source": [
    "O `LabelEncoder` é usado para codificar atributos categóricos não ordinais em valores inteiros. Diferentemente do `OneHotEncoder`, ele não cria várias colunas binárias, mas simplesmente atribui um número inteiro único a cada categoria. Vou criar um exemplo de como usar o `LabelEncoder` em Python.\n",
    "\n",
    "Certifique-se de ter a biblioteca `scikit-learn` instalada (pode ser instalada com `pip install scikit-learn`)."
   ]
  },
  {
   "cell_type": "code",
   "execution_count": 3,
   "id": "803f9d48-3c5c-4ca3-ac46-21b5e3fceecd",
   "metadata": {},
   "outputs": [
    {
     "name": "stdout",
     "output_type": "stream",
     "text": [
      "Dados Originais:\n",
      "['ensolarado' 'nublado' 'chuvoso' 'ensolarado' 'chuvoso']\n",
      "\n",
      "Dados Codificados:\n",
      "[1 2 0 1 0]\n",
      "\n",
      "Dados Decodificados:\n",
      "['ensolarado' 'nublado' 'chuvoso' 'ensolarado' 'chuvoso']\n"
     ]
    }
   ],
   "source": [
    "import numpy as np\n",
    "from sklearn.preprocessing import LabelEncoder\n",
    "\n",
    "# Suponhamos que temos um conjunto de dados com o atributo categórico 'clima'\n",
    "dados = np.array(['ensolarado', 'nublado', 'chuvoso', 'ensolarado', 'chuvoso'])\n",
    "\n",
    "# Criar uma instância do LabelEncoder\n",
    "encoder = LabelEncoder()\n",
    "\n",
    "# Ajustar o encoder aos dados e transformar o atributo 'clima'\n",
    "dados_codificados = encoder.fit_transform(dados)\n",
    "\n",
    "# Visualizar os dados codificados\n",
    "print(\"Dados Originais:\")\n",
    "print(dados)\n",
    "\n",
    "print(\"\\nDados Codificados:\")\n",
    "print(dados_codificados)\n",
    "\n",
    "# Para inverter a codificação e obter as categorias originais a partir dos valores inteiros\n",
    "dados_decodificados = encoder.inverse_transform(dados_codificados)\n",
    "print(\"\\nDados Decodificados:\")\n",
    "print(dados_decodificados)"
   ]
  },
  {
   "cell_type": "markdown",
   "id": "3ecd754f",
   "metadata": {},
   "source": [
    "## Discretização de Variáveis Contínuas: Transformando Valores em Intervalos"
   ]
  },
  {
   "cell_type": "markdown",
   "id": "53465256",
   "metadata": {},
   "source": [
    "A discretização é o processo de converter variáveis contínuas em categorias (ou intervalos), tornando-as mais compreensíveis e úteis em tarefas de análise de dados e modelagem de machine learning. Essa técnica é especialmente útil quando se lida com algoritmos que se beneficiam de variáveis categóricas ou quando se deseja simplificar um problema complexo. Vamos explorar como fazer isso com exemplos em código em Python usando o `scikit-learn`."
   ]
  },
  {
   "cell_type": "markdown",
   "id": "7d7f7d1b",
   "metadata": {},
   "source": [
    "**Por que Discretizar Variáveis Contínuas?**\n",
    "\n",
    "1. **Simplificação:** Em alguns casos, a discretização pode simplificar um problema complexo, transformando-o em algo mais gerenciável.\n",
    "    \n",
    "2. **Interpretação:** A discretização torna os resultados mais interpretáveis, permitindo que você compreenda facilmente as tendências nos dados.\n",
    "    \n",
    "3. **Compatibilidade:** Alguns algoritmos de machine learning funcionam melhor com variáveis categóricas, tornando a discretização útil para melhorar o desempenho.\n",
    "    \n",
    "\n",
    "**Método de Discretização com `KBinsDiscretizer`:**\n",
    "\n",
    "A biblioteca `scikit-learn` fornece a classe `KBinsDiscretizer` que oferece várias opções para discretização, incluindo a especificação do número de intervalos ou a largura dos intervalos."
   ]
  },
  {
   "cell_type": "code",
   "execution_count": 9,
   "id": "8fb8275f",
   "metadata": {},
   "outputs": [
    {
     "name": "stderr",
     "output_type": "stream",
     "text": [
      "/home/afonsolelis/.local/lib/python3.10/site-packages/sklearn/preprocessing/_discretization.py:239: FutureWarning: In version 1.5 onwards, subsample=200_000 will be used by default. Set subsample explicitly to silence this warning in the mean time. Set subsample=None to disable subsampling explicitly.\n",
      "  warnings.warn(\n"
     ]
    }
   ],
   "source": [
    "from sklearn.preprocessing import KBinsDiscretizer\n",
    "\n",
    "# Suponhamos que você tenha um array numpy com idades\n",
    "idades = np.array([25, 32, 45, 52, 28, 38, 60, 20]).reshape(-1, 1)\n",
    "\n",
    "# Criar uma instância de KBinsDiscretizer para dividir em 3 intervalos igualmente espaçados\n",
    "discretizer = KBinsDiscretizer(n_bins=3, encode='ordinal', strategy='uniform')\n",
    "idades_discretizadas = discretizer.fit_transform(idades)"
   ]
  },
  {
   "cell_type": "markdown",
   "id": "2bb5386d",
   "metadata": {},
   "source": [
    "No exemplo acima, usamos o `KBinsDiscretizer` para discretizar o atributo 'idade' em 3 intervalos igualmente espaçados. O argumento `encode` está definido como 'ordinal' para representar os intervalos como números inteiros e `strategy` como 'uniform' para criar intervalos de largura igual.\n",
    "\n",
    "**Visualização (Opcional):**\n",
    "\n",
    "Para visualizar a discretização, você pode usar um histograma ou gráfico de barras para mostrar a distribuição das amostras em cada intervalo."
   ]
  },
  {
   "cell_type": "code",
   "execution_count": 11,
   "id": "16f313fb",
   "metadata": {},
   "outputs": [
    {
     "data": {
      "image/png": "[encoded data removed]",
      "text/plain": [
       "<Figure size 1200x400 with 2 Axes>"
      ]
     },
     "metadata": {},
     "output_type": "display_data"
    }
   ],
   "source": [
    "import numpy as np\n",
    "import matplotlib.pyplot as plt\n",
    "from sklearn.preprocessing import KBinsDiscretizer\n",
    "\n",
    "# Plot do histograma antes da discretização\n",
    "plt.figure(figsize=(12, 4))\n",
    "plt.subplot(1, 2, 1)\n",
    "plt.hist(idades, bins=10, color='lightblue', edgecolor='black', rwidth=0.8)\n",
    "plt.xlabel('Idade')\n",
    "plt.ylabel('Frequência')\n",
    "plt.title('Histograma da Idade (Antes da Discretização)')\n",
    "\n",
    "# Plot do histograma após a discretização\n",
    "plt.subplot(1, 2, 2)\n",
    "plt.hist(idades_discretizadas, bins=3, color='lightblue', edgecolor='black', rwidth=0.8)\n",
    "plt.xlabel('Intervalos de Idade')\n",
    "plt.ylabel('Frequência')\n",
    "plt.title('Histograma da Idade Discretizada')\n",
    "plt.xticks([0, 1, 2], ['Intervalo 1', 'Intervalo 2', 'Intervalo 3'])\n",
    "\n",
    "plt.tight_layout()\n",
    "plt.show()\n"
   ]
  },
  {
   "cell_type": "markdown",
   "id": "26b21ec5",
   "metadata": {},
   "source": [
    "A discretização é uma técnica poderosa para tornar os dados mais compreensíveis e úteis em uma variedade de aplicações de análise de dados e machine learning. Escolha o método de discretização que melhor se adapte ao seu problema e objetivos específicos usando as capacidades do `scikit-learn`."
   ]
  },
  {
   "cell_type": "markdown",
   "id": "85211b77",
   "metadata": {},
   "source": [
    "## Feature Creation: Criando Novos Atributos em Machine Learning"
   ]
  },
  {
   "cell_type": "markdown",
   "id": "9b53b062",
   "metadata": {},
   "source": [
    "A criação de novos atributos, também conhecida como feature creation ou feature engineering, é um processo essencial em machine learning, que envolve a geração de atributos adicionais a partir dos dados originais para melhorar o desempenho dos modelos. Criar atributos relevantes e informativos pode ser crucial para a resolução eficaz de problemas de aprendizado de máquina. Abaixo, você encontrará exemplos de como criar novos atributos em Python.\n",
    "\n",
    "**Exemplos de Feature Creation:**\n",
    "\n",
    "1. **Combinação de Atributos:**\n",
    "    \n",
    "    Uma maneira comum de criar novos atributos é combinar informações de atributos existentes. Por exemplo, suponha que você tenha dados de altura (em centímetros) e peso (em quilogramas). Você pode criar um novo atributo chamado \"Índice de Massa Corporal (IMC)\" da seguinte forma:"
   ]
  },
  {
   "cell_type": "code",
   "execution_count": 23,
   "id": "fb3a2b49-7337-4775-b0c8-bb5d7dd2313f",
   "metadata": {},
   "outputs": [
    {
     "data": {
      "text/plain": [
       "[21.48, 22.86, 19.48, 25.31, 21.26]"
      ]
     },
     "execution_count": 23,
     "metadata": {},
     "output_type": "execute_result"
    }
   ],
   "source": [
    "altura_cm = [160, 175, 152, 180, 168]\n",
    "peso_kg = [55, 70, 45, 82, 60]\n",
    "\n",
    "# Criar o atributo IMC\n",
    "imc = [round(peso / ((altura / 100) ** 2), 2) for altura, peso in zip(altura_cm, peso_kg)]\n",
    "\n",
    "imc"
   ]
  },
  {
   "cell_type": "markdown",
   "id": "1d066c8d",
   "metadata": {},
   "source": [
    "2. **Extração de Informações de Data e Hora:**\n",
    "    \n",
    "    Se seus dados incluem informações de data e hora, você pode criar atributos adicionais, como dia da semana, mês, ano, ou até mesmo períodos do dia."
   ]
  },
  {
   "cell_type": "code",
   "execution_count": 22,
   "id": "d022cd32",
   "metadata": {},
   "outputs": [
    {
     "data": {
      "text/html": [
       "<div>\n",
       "<style scoped>\n",
       "    .dataframe tbody tr th:only-of-type {\n",
       "        vertical-align: middle;\n",
       "    }\n",
       "\n",
       "    .dataframe tbody tr th {\n",
       "        vertical-align: top;\n",
       "    }\n",
       "\n",
       "    .dataframe thead th {\n",
       "        text-align: right;\n",
       "    }\n",
       "</style>\n",
       "<table border=\"1\" class=\"dataframe\">\n",
       "  <thead>\n",
       "    <tr style=\"text-align: right;\">\n",
       "      <th></th>\n",
       "      <th>data_hora</th>\n",
       "      <th>dia_da_semana</th>\n",
       "      <th>mes</th>\n",
       "      <th>hora</th>\n",
       "    </tr>\n",
       "  </thead>\n",
       "  <tbody>\n",
       "    <tr>\n",
       "      <th>0</th>\n",
       "      <td>2023-01-15 10:30:00</td>\n",
       "      <td>6</td>\n",
       "      <td>1</td>\n",
       "      <td>10</td>\n",
       "    </tr>\n",
       "    <tr>\n",
       "      <th>1</th>\n",
       "      <td>2023-02-20 15:45:00</td>\n",
       "      <td>0</td>\n",
       "      <td>2</td>\n",
       "      <td>15</td>\n",
       "    </tr>\n",
       "    <tr>\n",
       "      <th>2</th>\n",
       "      <td>2023-03-10 08:00:00</td>\n",
       "      <td>4</td>\n",
       "      <td>3</td>\n",
       "      <td>8</td>\n",
       "    </tr>\n",
       "  </tbody>\n",
       "</table>\n",
       "</div>"
      ],
      "text/plain": [
       "            data_hora  dia_da_semana  mes  hora\n",
       "0 2023-01-15 10:30:00              6    1    10\n",
       "1 2023-02-20 15:45:00              0    2    15\n",
       "2 2023-03-10 08:00:00              4    3     8"
      ]
     },
     "execution_count": 22,
     "metadata": {},
     "output_type": "execute_result"
    }
   ],
   "source": [
    "import pandas as pd\n",
    "    \n",
    "data_hora = pd.to_datetime(['2023-01-15 10:30', '2023-02-20 15:45', '2023-03-10 08:00'])\n",
    "\n",
    "# Criar atributos de data e hora\n",
    "data_hora_df = pd.DataFrame({'data_hora': data_hora})\n",
    "data_hora_df['dia_da_semana'] = data_hora_df['data_hora'].dt.dayofweek\n",
    "data_hora_df['mes'] = data_hora_df['data_hora'].dt.month\n",
    "data_hora_df['hora'] = data_hora_df['data_hora'].dt.hour\n",
    "\n",
    "data_hora_df"
   ]
  },
  {
   "cell_type": "markdown",
   "id": "ebdc094c",
   "metadata": {},
   "source": [
    "3. **Codificação de Texto em Números:**\n",
    "    \n",
    "    Às vezes, você pode criar novos atributos codificando informações de texto em números. Por exemplo, se você tem uma coluna de \"classificação de sentimentos\" com valores como \"positivo\", \"negativo\" e \"neutro\", você pode criar um novo atributo codificado."
   ]
  },
  {
   "cell_type": "code",
   "execution_count": 21,
   "id": "621f894f",
   "metadata": {},
   "outputs": [
    {
     "data": {
      "text/plain": [
       "[1, -1, 0, 1, -1]"
      ]
     },
     "execution_count": 21,
     "metadata": {},
     "output_type": "execute_result"
    }
   ],
   "source": [
    "sentimentos = ['positivo', 'negativo', 'neutro', 'positivo', 'negativo']\n",
    "    \n",
    "# Mapear os sentimentos para números\n",
    "mapeamento_sentimentos = {'positivo': 1, 'negativo': -1, 'neutro': 0}\n",
    "sentimentos_codificados = [mapeamento_sentimentos[sentimento] for sentimento in sentimentos]\n",
    "\n",
    "sentimentos_codificados"
   ]
  },
  {
   "cell_type": "markdown",
   "id": "42765816",
   "metadata": {},
   "source": [
    "4. **Engenharia de Recursos Geoespaciais:**\n",
    "    \n",
    "    Se você tiver informações geoespaciais, como latitude e longitude, pode criar atributos adicionais, como distância a pontos de referência ou densidade populacional da região."
   ]
  },
  {
   "cell_type": "code",
   "execution_count": 20,
   "id": "87ff7ae3",
   "metadata": {},
   "outputs": [
    {
     "data": {
      "text/plain": [
       "[0.0, 3944.422231489921, 8776.636017486282]"
      ]
     },
     "execution_count": 20,
     "metadata": {},
     "output_type": "execute_result"
    }
   ],
   "source": [
    "from geopy.distance import geodesic\n",
    "\n",
    "# Suponha que você tenha coordenadas de latitude e longitude\n",
    "latitude = [34.0522, 40.7128, 51.5074]\n",
    "longitude = [-118.2437, -74.0060, -0.1278]\n",
    "\n",
    "# Coordenadas do centro da cidade de referência\n",
    "centro_cidade = (34.0522, -118.2437)\n",
    "\n",
    "# Calcular a distância a um ponto de referência (por exemplo, centro da cidade)\n",
    "distancias = [geodesic(coord, centro_cidade).kilometers for coord in zip(latitude, longitude)]\n",
    "\n",
    "distancias"
   ]
  },
  {
   "cell_type": "markdown",
   "id": "11cc363b",
   "metadata": {},
   "source": [
    "A criação de novos atributos é uma etapa importante do processo de preparação de dados em machine learning. Ela pode melhorar significativamente o desempenho do modelo ao fornecer informações relevantes e úteis. No entanto, é importante realizar análises exploratórias e avaliar o impacto dos novos atributos no desempenho do modelo para garantir que eles estejam realmente contribuindo para a tarefa em questão."
   ]
  },
  {
   "cell_type": "markdown",
   "id": "9744a2ff",
   "metadata": {},
   "source": [
    "## Seleção de Atributos, Modelagem e Permutação de Atributos em Machine Learning"
   ]
  },
  {
   "cell_type": "markdown",
   "id": "1f03d758",
   "metadata": {},
   "source": [
    "Em projetos de machine learning, a seleção de atributos é um processo crítico que envolve a escolha dos atributos mais relevantes para o modelo. Além disso, a modelagem de machine learning é a etapa em que você cria, ajusta e avalia modelos de aprendizado de máquina com base nos dados. A permutação de atributos é uma técnica útil para avaliar a importância dos atributos em um modelo. Vamos explorar esses conceitos com exemplos de código em Python.\n",
    "\n",
    "**1. Seleção de Atributos:**\n",
    "\n",
    "A seleção de atributos envolve a escolha dos atributos mais informativos e relevantes para a tarefa de machine learning. Isso pode melhorar a eficiência do modelo e reduzir o overfitting. Um exemplo de seleção de atributos usando o `scikit-learn`:"
   ]
  },
  {
   "cell_type": "code",
   "execution_count": 25,
   "id": "f272c8f2-e769-4c4f-bfb5-22dbe87080c7",
   "metadata": {},
   "outputs": [
    {
     "data": {
      "text/plain": [
       "array([[1.4, 0.2],\n",
       "       [1.4, 0.2],\n",
       "       [1.3, 0.2],\n",
       "       [1.5, 0.2],\n",
       "       [1.4, 0.2],\n",
       "       [1.7, 0.4],\n",
       "       [1.4, 0.3],\n",
       "       [1.5, 0.2],\n",
       "       [1.4, 0.2],\n",
       "       [1.5, 0.1],\n",
       "       [1.5, 0.2],\n",
       "       [1.6, 0.2],\n",
       "       [1.4, 0.1],\n",
       "       [1.1, 0.1],\n",
       "       [1.2, 0.2],\n",
       "       [1.5, 0.4],\n",
       "       [1.3, 0.4],\n",
       "       [1.4, 0.3],\n",
       "       [1.7, 0.3],\n",
       "       [1.5, 0.3],\n",
       "       [1.7, 0.2],\n",
       "       [1.5, 0.4],\n",
       "       [1. , 0.2],\n",
       "       [1.7, 0.5],\n",
       "       [1.9, 0.2],\n",
       "       [1.6, 0.2],\n",
       "       [1.6, 0.4],\n",
       "       [1.5, 0.2],\n",
       "       [1.4, 0.2],\n",
       "       [1.6, 0.2],\n",
       "       [1.6, 0.2],\n",
       "       [1.5, 0.4],\n",
       "       [1.5, 0.1],\n",
       "       [1.4, 0.2],\n",
       "       [1.5, 0.2],\n",
       "       [1.2, 0.2],\n",
       "       [1.3, 0.2],\n",
       "       [1.4, 0.1],\n",
       "       [1.3, 0.2],\n",
       "       [1.5, 0.2],\n",
       "       [1.3, 0.3],\n",
       "       [1.3, 0.3],\n",
       "       [1.3, 0.2],\n",
       "       [1.6, 0.6],\n",
       "       [1.9, 0.4],\n",
       "       [1.4, 0.3],\n",
       "       [1.6, 0.2],\n",
       "       [1.4, 0.2],\n",
       "       [1.5, 0.2],\n",
       "       [1.4, 0.2],\n",
       "       [4.7, 1.4],\n",
       "       [4.5, 1.5],\n",
       "       [4.9, 1.5],\n",
       "       [4. , 1.3],\n",
       "       [4.6, 1.5],\n",
       "       [4.5, 1.3],\n",
       "       [4.7, 1.6],\n",
       "       [3.3, 1. ],\n",
       "       [4.6, 1.3],\n",
       "       [3.9, 1.4],\n",
       "       [3.5, 1. ],\n",
       "       [4.2, 1.5],\n",
       "       [4. , 1. ],\n",
       "       [4.7, 1.4],\n",
       "       [3.6, 1.3],\n",
       "       [4.4, 1.4],\n",
       "       [4.5, 1.5],\n",
       "       [4.1, 1. ],\n",
       "       [4.5, 1.5],\n",
       "       [3.9, 1.1],\n",
       "       [4.8, 1.8],\n",
       "       [4. , 1.3],\n",
       "       [4.9, 1.5],\n",
       "       [4.7, 1.2],\n",
       "       [4.3, 1.3],\n",
       "       [4.4, 1.4],\n",
       "       [4.8, 1.4],\n",
       "       [5. , 1.7],\n",
       "       [4.5, 1.5],\n",
       "       [3.5, 1. ],\n",
       "       [3.8, 1.1],\n",
       "       [3.7, 1. ],\n",
       "       [3.9, 1.2],\n",
       "       [5.1, 1.6],\n",
       "       [4.5, 1.5],\n",
       "       [4.5, 1.6],\n",
       "       [4.7, 1.5],\n",
       "       [4.4, 1.3],\n",
       "       [4.1, 1.3],\n",
       "       [4. , 1.3],\n",
       "       [4.4, 1.2],\n",
       "       [4.6, 1.4],\n",
       "       [4. , 1.2],\n",
       "       [3.3, 1. ],\n",
       "       [4.2, 1.3],\n",
       "       [4.2, 1.2],\n",
       "       [4.2, 1.3],\n",
       "       [4.3, 1.3],\n",
       "       [3. , 1.1],\n",
       "       [4.1, 1.3],\n",
       "       [6. , 2.5],\n",
       "       [5.1, 1.9],\n",
       "       [5.9, 2.1],\n",
       "       [5.6, 1.8],\n",
       "       [5.8, 2.2],\n",
       "       [6.6, 2.1],\n",
       "       [4.5, 1.7],\n",
       "       [6.3, 1.8],\n",
       "       [5.8, 1.8],\n",
       "       [6.1, 2.5],\n",
       "       [5.1, 2. ],\n",
       "       [5.3, 1.9],\n",
       "       [5.5, 2.1],\n",
       "       [5. , 2. ],\n",
       "       [5.1, 2.4],\n",
       "       [5.3, 2.3],\n",
       "       [5.5, 1.8],\n",
       "       [6.7, 2.2],\n",
       "       [6.9, 2.3],\n",
       "       [5. , 1.5],\n",
       "       [5.7, 2.3],\n",
       "       [4.9, 2. ],\n",
       "       [6.7, 2. ],\n",
       "       [4.9, 1.8],\n",
       "       [5.7, 2.1],\n",
       "       [6. , 1.8],\n",
       "       [4.8, 1.8],\n",
       "       [4.9, 1.8],\n",
       "       [5.6, 2.1],\n",
       "       [5.8, 1.6],\n",
       "       [6.1, 1.9],\n",
       "       [6.4, 2. ],\n",
       "       [5.6, 2.2],\n",
       "       [5.1, 1.5],\n",
       "       [5.6, 1.4],\n",
       "       [6.1, 2.3],\n",
       "       [5.6, 2.4],\n",
       "       [5.5, 1.8],\n",
       "       [4.8, 1.8],\n",
       "       [5.4, 2.1],\n",
       "       [5.6, 2.4],\n",
       "       [5.1, 2.3],\n",
       "       [5.1, 1.9],\n",
       "       [5.9, 2.3],\n",
       "       [5.7, 2.5],\n",
       "       [5.2, 2.3],\n",
       "       [5. , 1.9],\n",
       "       [5.2, 2. ],\n",
       "       [5.4, 2.3],\n",
       "       [5.1, 1.8]])"
      ]
     },
     "execution_count": 25,
     "metadata": {},
     "output_type": "execute_result"
    }
   ],
   "source": [
    "from sklearn.datasets import load_iris\n",
    "from sklearn.feature_selection import SelectKBest\n",
    "from sklearn.feature_selection import chi2\n",
    "\n",
    "# Carregar o conjunto de dados Iris\n",
    "iris = load_iris()\n",
    "X, y = iris.data, iris.target\n",
    "\n",
    "# Selecionar os K melhores atributos usando o teste qui-quadrado\n",
    "seletor = SelectKBest(score_func=chi2, k=2)\n",
    "X_new = seletor.fit_transform(X, y)\n",
    "\n",
    "X_new"
   ]
  },
  {
   "cell_type": "markdown",
   "id": "de2ae092",
   "metadata": {},
   "source": [
    "Neste exemplo, usamos o teste qui-quadrado para selecionar os dois melhores atributos do conjunto de dados Iris.\n",
    "\n",
    "**2. Modelagem:**\n",
    "\n",
    "A modelagem de machine learning envolve a criação, ajuste e avaliação de modelos para resolver um problema específico. Aqui está um exemplo de criação e ajuste de um modelo de regressão linear com o `scikit-learn`:"
   ]
  },
  {
   "cell_type": "code",
   "execution_count": 27,
   "id": "56b124d9",
   "metadata": {},
   "outputs": [
    {
     "data": {
      "text/plain": [
       "0.010420222653186971"
      ]
     },
     "execution_count": 27,
     "metadata": {},
     "output_type": "execute_result"
    }
   ],
   "source": [
    "from sklearn.linear_model import LinearRegression\n",
    "from sklearn.datasets import make_regression\n",
    "from sklearn.model_selection import train_test_split\n",
    "from sklearn.metrics import mean_squared_error\n",
    "\n",
    "# Criar um conjunto de dados de exemplo para regressão\n",
    "X, y = make_regression(n_samples=100, n_features=1, noise=0.1, random_state=42)\n",
    "\n",
    "# Dividir o conjunto de dados em treinamento e teste\n",
    "X_train, X_test, y_train, y_test = train_test_split(X, y, test_size=0.2, random_state=42)\n",
    "\n",
    "# Criar e ajustar o modelo de regressão linear\n",
    "modelo = LinearRegression()\n",
    "modelo.fit(X_train, y_train)\n",
    "\n",
    "# Fazer previsões\n",
    "y_pred = modelo.predict(X_test)\n",
    "\n",
    "# Avaliar o desempenho do modelo\n",
    "mse = mean_squared_error(y_test, y_pred)\n",
    "\n",
    "mse"
   ]
  },
  {
   "cell_type": "markdown",
   "id": "c46b7423",
   "metadata": {},
   "source": [
    "Neste exemplo, criamos um modelo de regressão linear, ajustamos-o aos dados de treinamento e avaliamos o desempenho com o erro quadrático médio (MSE).\n",
    "\n",
    "**3. Permutação de Atributos:**\n",
    "\n",
    "A permutação de atributos é uma técnica para medir a importância dos atributos em um modelo, avaliando como a acurácia do modelo é afetada pela permutação aleatória dos valores de um atributo. Aqui está um exemplo de permutação de atributos usando o `scikit-learn`:"
   ]
  },
  {
   "cell_type": "code",
   "execution_count": 29,
   "id": "cb3d7543",
   "metadata": {},
   "outputs": [
    {
     "data": {
      "text/plain": [
       "array([2.00552148])"
      ]
     },
     "execution_count": 29,
     "metadata": {},
     "output_type": "execute_result"
    }
   ],
   "source": [
    "from sklearn.inspection import permutation_importance\n",
    "\n",
    "# Calcular a importância dos atributos usando permutação\n",
    "resultado_permutacao = permutation_importance(modelo, X_test, y_test, n_repeats=30, random_state=42)\n",
    "\n",
    "# Acessar a importância dos atributos\n",
    "importancia_atributos = resultado_permutacao.importances_mean\n",
    "\n",
    "importancia_atributos"
   ]
  },
  {
   "cell_type": "markdown",
   "id": "a1232984",
   "metadata": {},
   "source": [
    "Neste exemplo, calculamos a importância dos atributos do modelo de regressão linear usando a permutação de atributos.\n",
    "\n",
    "A seleção de atributos, a modelagem de machine learning e a permutação de atributos são etapas essenciais para a construção de modelos de machine learning eficazes. A escolha dos atributos corretos e a avaliação adequada do modelo podem fazer a diferença no desempenho e na interpretabilidade dos modelos. Certifique-se de ajustar essas técnicas de acordo com seu problema específico e conjuntos de dados."
   ]
  },
  {
   "cell_type": "markdown",
   "id": "fc7ef7d7",
   "metadata": {},
   "source": [
    "## Garbage In → Garbage Out e a Maldição da Dimensionalidade"
   ]
  },
  {
   "cell_type": "markdown",
   "id": "1e102dd9",
   "metadata": {},
   "source": [
    "**Garbage In → Garbage Out (GIGO)** é um princípio fundamental em ciência da computação e aprendizado de máquina que enfatiza a importância de dados de entrada de alta qualidade para obter resultados significativos em modelos de machine learning. Se os dados de entrada forem inadequados ou ruidosos, o modelo não será capaz de aprender com precisão, resultando em saídas imprecisas.\n",
    "\n",
    "A **Maldição da Dimensionalidade** refere-se a um fenômeno em que o desempenho dos algoritmos de machine learning degrada à medida que o número de dimensões (atributos) nos dados de treinamento aumenta. Isso ocorre devido à dispersão dos dados em espaços de alta dimensionalidade, tornando difícil para os algoritmos encontrar padrões significativos. Ambos os conceitos estão interligados, pois dados de má qualidade ou com muitas dimensões podem levar a resultados imprecisos.\n",
    "\n",
    "Vamos explorar esses conceitos com exemplos na base de dados \"Wine\" disponível no `scikit-learn`.\n",
    "\n",
    "**Garbage In → Garbage Out (GIGO):**\n",
    "\n",
    "Primeiro, vamos mostrar como dados de entrada ruins podem afetar o desempenho do modelo usando a base de dados \"Wine\"."
   ]
  },
  {
   "cell_type": "code",
   "execution_count": 30,
   "id": "2e373157-2f57-4ca2-b9ac-e0a8f0a1c556",
   "metadata": {},
   "outputs": [
    {
     "name": "stdout",
     "output_type": "stream",
     "text": [
      "Precisão com dados ruidosos: 0.8611111111111112\n"
     ]
    },
    {
     "name": "stderr",
     "output_type": "stream",
     "text": [
      "/home/afonsolelis/.local/lib/python3.10/site-packages/sklearn/linear_model/_logistic.py:460: ConvergenceWarning: lbfgs failed to converge (status=1):\n",
      "STOP: TOTAL NO. of ITERATIONS REACHED LIMIT.\n",
      "\n",
      "Increase the number of iterations (max_iter) or scale the data as shown in:\n",
      "    https://scikit-learn.org/stable/modules/preprocessing.html\n",
      "Please also refer to the documentation for alternative solver options:\n",
      "    https://scikit-learn.org/stable/modules/linear_model.html#logistic-regression\n",
      "  n_iter_i = _check_optimize_result(\n"
     ]
    }
   ],
   "source": [
    "from sklearn.datasets import load_wine\n",
    "from sklearn.model_selection import train_test_split\n",
    "from sklearn.linear_model import LogisticRegression\n",
    "from sklearn.metrics import accuracy_score\n",
    "\n",
    "# Carregar a base de dados Wine\n",
    "wine = load_wine()\n",
    "X, y = wine.data, wine.target\n",
    "\n",
    "# Introduzir ruído nos dados de entrada\n",
    "import numpy as np\n",
    "np.random.seed(42)\n",
    "X_ruido = X + np.random.normal(0, 1, X.shape)\n",
    "\n",
    "# Dividir os dados em treinamento e teste\n",
    "X_train, X_test, y_train, y_test = train_test_split(X_ruido, y, test_size=0.2, random_state=42)\n",
    "\n",
    "# Treinar um modelo de regressão logística com os dados ruidosos\n",
    "modelo = LogisticRegression()\n",
    "modelo.fit(X_train, y_train)\n",
    "\n",
    "# Avaliar o desempenho do modelo\n",
    "y_pred = modelo.predict(X_test)\n",
    "precisao = accuracy_score(y_test, y_pred)\n",
    "print(\"Precisão com dados ruidosos:\", precisao)"
   ]
  },
  {
   "cell_type": "markdown",
   "id": "8b1bb1fb",
   "metadata": {},
   "source": [
    "Neste exemplo, introduzimos ruído nos dados de entrada, o que resultou em uma precisão mais baixa do modelo. Isso ilustra como dados de má qualidade podem afetar adversamente os resultados do modelo.\n",
    "\n",
    "**Maldição da Dimensionalidade:**\n",
    "\n",
    "Agora, vamos abordar a Maldição da Dimensionalidade usando a mesma base de dados \"Wine\", aumentando o número de dimensões artificialmente."
   ]
  },
  {
   "cell_type": "code",
   "execution_count": 31,
   "id": "4c18e9b7",
   "metadata": {},
   "outputs": [
    {
     "name": "stdout",
     "output_type": "stream",
     "text": [
      "Precisão com dimensionalidade reduzida: 0.7222222222222222\n"
     ]
    }
   ],
   "source": [
    "from sklearn.decomposition import PCA\n",
    "\n",
    "# Reduzir a dimensionalidade usando PCA\n",
    "pca = PCA(n_components=2)\n",
    "X_reduzido = pca.fit_transform(X)\n",
    "\n",
    "# Dividir os dados reduzidos em treinamento e teste\n",
    "X_train, X_test, y_train, y_test = train_test_split(X_reduzido, y, test_size=0.2, random_state=42)\n",
    "\n",
    "# Treinar um modelo de regressão logística com os dados reduzidos\n",
    "modelo = LogisticRegression()\n",
    "modelo.fit(X_train, y_train)\n",
    "\n",
    "# Avaliar o desempenho do modelo\n",
    "y_pred = modelo.predict(X_test)\n",
    "precisao = accuracy_score(y_test, y_pred)\n",
    "print(\"Precisão com dimensionalidade reduzida:\", precisao)"
   ]
  },
  {
   "cell_type": "markdown",
   "id": "fb5742aa",
   "metadata": {},
   "source": [
    "Neste exemplo, aplicamos a Análise de Componentes Principais (PCA) para reduzir a dimensionalidade dos dados de entrada. A redução de dimensionalidade pode melhorar o desempenho do modelo, tornando-o mais eficaz na presença da Maldição da Dimensionalidade."
   ]
  },
  {
   "cell_type": "markdown",
   "id": "547703a3",
   "metadata": {},
   "source": [
    "## Feature Permutation e Feature Correlation em Machine Learning"
   ]
  },
  {
   "cell_type": "markdown",
   "id": "0bf7f9ea",
   "metadata": {},
   "source": [
    "**Permutação de Atributos (Feature Permutation)** e **Correlação de Atributos (Feature Correlation)** são duas técnicas essenciais no processo de pré-processamento de dados e seleção de atributos em machine learning. Vamos explorar esses conceitos e fornecer exemplos de código em Python.\n",
    "\n",
    "**Permutação de Atributos (Feature Permutation):**\n",
    "\n",
    "A permutação de atributos é uma técnica usada para avaliar a importância de cada atributo em um modelo, medindo o efeito de embaralhar aleatoriamente os valores de um atributo em relação à métrica de desempenho do modelo. Se a métrica de desempenho piora significativamente após a permutação, isso indica que o atributo é importante para o modelo. Aqui está um exemplo de como usar a permutação de atributos com o `scikit-learn`:"
   ]
  },
  {
   "cell_type": "code",
   "execution_count": 32,
   "id": "f6ade247",
   "metadata": {},
   "outputs": [
    {
     "name": "stdout",
     "output_type": "stream",
     "text": [
      "Precisão Original: 1.0\n",
      "Importância dos Atributos: [0.         0.         0.23666667 0.20555556]\n"
     ]
    }
   ],
   "source": [
    "from sklearn.datasets import load_iris\n",
    "from sklearn.model_selection import train_test_split\n",
    "from sklearn.ensemble import RandomForestClassifier\n",
    "from sklearn.metrics import accuracy_score\n",
    "from sklearn.inspection import permutation_importance\n",
    "\n",
    "# Carregar a base de dados Iris\n",
    "iris = load_iris()\n",
    "X, y = iris.data, iris.target\n",
    "\n",
    "# Dividir os dados em treinamento e teste\n",
    "X_train, X_test, y_train, y_test = train_test_split(X, y, test_size=0.2, random_state=42)\n",
    "\n",
    "# Treinar um modelo (por exemplo, um RandomForest)\n",
    "modelo = RandomForestClassifier(random_state=42)\n",
    "modelo.fit(X_train, y_train)\n",
    "\n",
    "# Avaliar o desempenho do modelo\n",
    "y_pred = modelo.predict(X_test)\n",
    "precisao_original = accuracy_score(y_test, y_pred)\n",
    "\n",
    "# Aplicar permutação de atributos\n",
    "resultado_permutacao = permutation_importance(modelo, X_test, y_test, n_repeats=30, random_state=42)\n",
    "\n",
    "# Acessar a importância dos atributos após permutação\n",
    "importancia_atributos = resultado_permutacao.importances_mean\n",
    "\n",
    "# Comparar a precisão original com a importância dos atributos\n",
    "print(\"Precisão Original:\", precisao_original)\n",
    "print(\"Importância dos Atributos:\", importancia_atributos)"
   ]
  },
  {
   "cell_type": "markdown",
   "id": "76fde4ed",
   "metadata": {},
   "source": [
    "Neste exemplo, usamos a permutação de atributos para calcular a importância de cada atributo no modelo. A precisão original do modelo é comparada com a importância dos atributos após a permutação.\n",
    "\n",
    "**Correlação de Atributos (Feature Correlation):**\n",
    "\n",
    "A correlação de atributos é uma técnica que avalia a relação entre diferentes atributos em um conjunto de dados. A correlação pode ser usada para identificar atributos altamente correlacionados, o que pode levar a problemas de multicolinearidade em modelos. Um exemplo de como calcular a matriz de correlação usando o `pandas`:"
   ]
  },
  {
   "cell_type": "code",
   "execution_count": 34,
   "id": "6cec41b5",
   "metadata": {},
   "outputs": [
    {
     "data": {
      "image/png": "[encoded data removed]",
      "text/plain": [
       "<Figure size 800x600 with 2 Axes>"
      ]
     },
     "metadata": {},
     "output_type": "display_data"
    }
   ],
   "source": [
    "import pandas as pd\n",
    "import seaborn as sns\n",
    "import matplotlib.pyplot as plt\n",
    "import numpy as np\n",
    "\n",
    "# Criar um DataFrame com mais atributos\n",
    "data = {'Atributo1': np.random.rand(100),\n",
    "        'Atributo2': np.random.rand(100),\n",
    "        'Atributo3': np.random.rand(100),\n",
    "        'Atributo4': np.random.rand(100),\n",
    "        'Atributo5': np.random.rand(100)}\n",
    "\n",
    "df = pd.DataFrame(data)\n",
    "\n",
    "# Calcular a matriz de correlação\n",
    "matriz_correlacao = df.corr()\n",
    "\n",
    "# Visualizar a matriz de correlação\n",
    "plt.figure(figsize=(8, 6))\n",
    "sns.heatmap(matriz_correlacao, annot=True, cmap='coolwarm', fmt=\".2f\")\n",
    "plt.title(\"Matriz de Correlação\")\n",
    "plt.show()"
   ]
  },
  {
   "cell_type": "markdown",
   "id": "32c15174",
   "metadata": {},
   "source": [
    "Neste exemplo, criamos um DataFrame de exemplo e calculamos a matriz de correlação entre os atributos. A matriz de correlação é visualizada usando um mapa de calor.\n",
    "\n",
    "**Importância dos Conceitos:**\n",
    "\n",
    "* A permutação de atributos ajuda a identificar quais atributos são mais importantes para o modelo, ajudando na seleção de atributos.\n",
    "* A correlação de atributos permite identificar relações entre os atributos, ajudando na detecção de multicolinearidade e na escolha de atributos independentes.\n",
    "\n",
    "Ambas as técnicas são cruciais para o pré-processamento de dados e a seleção de atributos, contribuindo para modelos mais eficazes e interpretações mais claras dos dados."
   ]
  },
  {
   "cell_type": "markdown",
   "id": "c102ba89",
   "metadata": {},
   "source": [
    "## Reduzindo a Complexidade: Simplificando Modelos e Atributos em Machine Learning"
   ]
  },
  {
   "cell_type": "markdown",
   "id": "bdcbb214",
   "metadata": {},
   "source": [
    "A complexidade é um fator crítico em projetos de machine learning, pois modelos excessivamente complexos podem levar a resultados indesejados. Reduzir a complexidade pode ser benéfico, tornando os modelos mais interpretáveis, mais rápidos para treinar e mais fáceis de implementar e manter em produção. A regra \"Pareto 20/80\" também se aplica aqui, sugerindo que frequentemente 20% dos atributos ou modelos contribuem para 80% do resultado. Vamos explorar esses conceitos com exemplos em Python.\n",
    "\n",
    "**Simplificando Modelos:**\n",
    "\n",
    "Aqui está um exemplo de como simplificar um modelo complexo, como um modelo de árvore de decisão, para torná-lo mais interpreitável:"
   ]
  },
  {
   "cell_type": "code",
   "execution_count": 52,
   "id": "ae945842",
   "metadata": {},
   "outputs": [
    {
     "name": "stdout",
     "output_type": "stream",
     "text": [
      "Precisão Modelo Complexo (Iris): 1.0\n"
     ]
    }
   ],
   "source": [
    "from sklearn.datasets import load_iris\n",
    "from sklearn.tree import DecisionTreeClassifier\n",
    "from sklearn.model_selection import train_test_split\n",
    "from sklearn.metrics import accuracy_score\n",
    "\n",
    "# Carregar o conjunto de dados Iris\n",
    "data = load_iris()\n",
    "X, y = data.data, data.target\n",
    "\n",
    "# Dividir os dados em treinamento e teste\n",
    "X_train, X_test, y_train, y_test = train_test_split(X, y, test_size=0.2, random_state=42)\n",
    "\n",
    "# Criar um modelo de árvore de decisão complexo\n",
    "modelo_complexo = DecisionTreeClassifier(random_state=42)\n",
    "modelo_complexo.fit(X_train, y_train)\n",
    "\n",
    "# Avaliar o desempenho do modelo complexo\n",
    "y_pred_complexo = modelo_complexo.predict(X_test)\n",
    "precisao_complexa = accuracy_score(y_test, y_pred_complexo)\n",
    "\n",
    "print(\"Precisão Modelo Complexo (Iris):\", precisao_complexa)"
   ]
  },
  {
   "cell_type": "code",
   "execution_count": 53,
   "id": "2eec20a4",
   "metadata": {},
   "outputs": [
    {
     "name": "stdout",
     "output_type": "stream",
     "text": [
      "Precisão Modelo Simples (Iris): 0.9666666666666667\n"
     ]
    }
   ],
   "source": [
    "from sklearn.datasets import load_iris\n",
    "from sklearn.tree import DecisionTreeClassifier\n",
    "from sklearn.model_selection import train_test_split\n",
    "from sklearn.metrics import accuracy_score\n",
    "\n",
    "# Carregar o conjunto de dados Iris\n",
    "data = load_iris()\n",
    "X, y = data.data, data.target\n",
    "\n",
    "# Dividir os dados em treinamento e teste\n",
    "X_train, X_test, y_train, y_test = train_test_split(X, y, test_size=0.2, random_state=42)\n",
    "\n",
    "# Simplificar o modelo usando uma árvore de decisão mais rasa\n",
    "modelo_simples = DecisionTreeClassifier(max_depth=2, random_state=42)\n",
    "modelo_simples.fit(X_train, y_train)\n",
    "\n",
    "# Avaliar o desempenho do modelo simplificado\n",
    "y_pred_simples = modelo_simples.predict(X_test)\n",
    "precisao_simples = accuracy_score(y_test, y_pred_simples)\n",
    "\n",
    "print(\"Precisão Modelo Simples (Iris):\", precisao_simples)"
   ]
  },
  {
   "cell_type": "markdown",
   "id": "b18fd3df",
   "metadata": {},
   "source": [
    "Neste exemplo, começamos com um modelo de árvore de decisão complexo e, em seguida, simplificamos o modelo limitando sua profundidade. O modelo simplificado é mais interpretável e pode ser preferível em muitos casos.\n",
    "\n",
    "**Simplificando Atributos:**\n",
    "\n",
    "Aqui está um exemplo de como reduzir o número de atributos, mantendo apenas os mais importantes:"
   ]
  },
  {
   "cell_type": "code",
   "execution_count": 36,
   "id": "dc3b47bf",
   "metadata": {},
   "outputs": [
    {
     "name": "stdout",
     "output_type": "stream",
     "text": [
      "Precisão com Atributos Selecionados: 1.0\n"
     ]
    }
   ],
   "source": [
    "from sklearn.datasets import load_iris\n",
    "from sklearn.feature_selection import SelectKBest, f_classif\n",
    "from sklearn.model_selection import train_test_split\n",
    "from sklearn.ensemble import RandomForestClassifier\n",
    "from sklearn.metrics import accuracy_score\n",
    "\n",
    "# Carregar a base de dados Iris\n",
    "iris = load_iris()\n",
    "X, y = iris.data, iris.target\n",
    "\n",
    "# Dividir os dados em treinamento e teste\n",
    "X_train, X_test, y_train, y_test = train_test_split(X, y, test_size=0.2, random_state=42)\n",
    "\n",
    "# Selecionar os K melhores atributos usando ANOVA F-test\n",
    "seletor = SelectKBest(score_func=f_classif, k=2)\n",
    "X_train_selecionado = seletor.fit_transform(X_train, y_train)\n",
    "X_test_selecionado = seletor.transform(X_test)\n",
    "\n",
    "# Treinar um modelo (por exemplo, Random Forest) com atributos selecionados\n",
    "modelo = RandomForestClassifier(random_state=42)\n",
    "modelo.fit(X_train_selecionado, y_train)\n",
    "\n",
    "# Avaliar o desempenho do modelo com atributos selecionados\n",
    "y_pred = modelo.predict(X_test_selecionado)\n",
    "precisao_selecionada = accuracy_score(y_test, y_pred)\n",
    "\n",
    "print(\"Precisão com Atributos Selecionados:\", precisao_selecionada)"
   ]
  },
  {
   "cell_type": "markdown",
   "id": "de0395cd",
   "metadata": {},
   "source": [
    "Neste exemplo, selecionamos os dois melhores atributos usando o teste ANOVA F e treinamos um modelo de Random Forest com esses atributos selecionados. Isso simplifica o modelo e pode levar a um desempenho semelhante.\n",
    "\n",
    "**Importância da Simplificação:**\n",
    "\n",
    "* Modelos simplificados são mais interpretáveis, facilitando a compreensão de como as decisões são tomadas.\n",
    "* A simplificação de atributos torna o modelo mais eficiente, reduzindo o tempo de treinamento e os recursos necessários.\n",
    "* Modelos mais simples são mais fáceis de implementar e manter em produção, o que é crucial em cenários do mundo real.\n",
    "\n",
    "Lembre-se da regra \"Pareto 20/80\": frequentemente, focar em um subconjunto menor de atributos ou simplificar um modelo complexo pode ser a chave para obter resultados eficazes em projetos de machine learning."
   ]
  }
 ],
 "metadata": {
  "kernelspec": {
   "display_name": "Python 3 (ipykernel)",
   "language": "python",
   "name": "python3"
  },
  "language_info": {
   "codemirror_mode": {
    "name": "ipython",
    "version": 3
   },
   "file_extension": ".py",
   "mimetype": "text/x-python",
   "name": "python",
   "nbconvert_exporter": "python",
   "pygments_lexer": "ipython3",
   "version": "3.11.5"
  }
 },
 "nbformat": 4,
 "nbformat_minor": 5
}
